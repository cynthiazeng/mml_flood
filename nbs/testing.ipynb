{
 "cells": [
  {
   "cell_type": "markdown",
   "metadata": {},
   "source": [
    "### Testing"
   ]
  },
  {
   "cell_type": "code",
   "execution_count": null,
   "metadata": {},
   "outputs": [],
   "source": [
    "%cd .."
   ]
  },
  {
   "cell_type": "code",
   "execution_count": 2,
   "metadata": {},
   "outputs": [],
   "source": [
    "import pandas as pd\n",
    "import utils\n",
    "import numpy as np\n",
    "from sklearn.model_selection import train_test_split\n",
    "from sklearn import metrics\n"
   ]
  },
  {
   "cell_type": "code",
   "execution_count": 97,
   "metadata": {},
   "outputs": [],
   "source": [
    "\n",
    "def baseline(y_test, results):\n",
    "\ty_base = np.zeros(len(y_test)) \n",
    "\tprint('Dumb baseline AUC', metrics.roc_auc_score(y_test,y_base))\n",
    "\tresults['base1']=utils.get_scores_clf(y_test,y_base)\n",
    "\n",
    "def stats_only(x_train, y_train, x_test, y_test, results):\n",
    "\ty_pred, y_pred_prob = utils.run_xgb(x_train.iloc[:, :25], np.ravel(y_train), x_test.iloc[:, :25])\n",
    "\tresults['stats only'] = utils.get_scores_clf(y_test, y_pred_prob)\n",
    "\n",
    "def nlp_only(x_train, y_train, x_test, y_test, results):\n",
    "\ty_pred, y_pred_prob = utils.run_xgb(x_train.iloc[:, 25:153], np.ravel(y_train), x_test.iloc[:, 25:153])\n",
    "\tresults['nlp only'] = utils.get_scores_clf(y_test, y_pred_prob)\n",
    "\n",
    "def weather_only(x_train, y_train, x_test, y_test, results):\n",
    "\ty_pred, y_pred_prob = utils.run_xgb(x_train.iloc[:, 153:], np.ravel(y_train), x_test.iloc[:, 153:])\n",
    "\tresults['weather only'] = utils.get_scores_clf(y_test, y_pred_prob)\n",
    " \n",
    "def stats_nlp(x_train, y_train, x_test, y_test, results):\n",
    "\ty_pred, y_pred_prob = utils.run_xgb(x_train.iloc[:, :153], np.ravel(y_train), x_test.iloc[:, :153])\n",
    "\tresults['stats nlp'] = utils.get_scores_clf(y_test, y_pred_prob)\n",
    "\n",
    "def weather_nlp(x_train, y_train, x_test, y_test, results):\n",
    "\ty_pred, y_pred_prob = utils.run_xgb(x_train.iloc[:, 25:], np.ravel(y_train), x_test.iloc[:, 25:])\n",
    "\tresults['weather nlp'] = utils.get_scores_clf(y_test, y_pred_prob)\n",
    " \n",
    "def stats_weather(x_train, y_train, x_test, y_test, results):\n",
    "\ty_pred, y_pred_prob = utils.run_xgb(x_train.drop(columns=x_train.columns[25:25+128]), np.ravel(y_train), x_test.drop(columns=x_train.columns[25:25+128]))\n",
    "\tresults['stats weather'] = utils.get_scores_clf(y_test, y_pred_prob)\n",
    "\n",
    "def all_vars(x_train, y_train, x_test, y_test, results):\n",
    "\ty_pred, y_pred_prob = utils.run_xgb(x_train, np.ravel(y_train), x_test)\n",
    "\tresults['all vars'] = utils.get_scores_clf(y_test, y_pred_prob)"
   ]
  },
  {
   "cell_type": "markdown",
   "metadata": {},
   "source": [
    "# N = 1"
   ]
  },
  {
   "cell_type": "code",
   "execution_count": 86,
   "metadata": {},
   "outputs": [
    {
     "name": "stdout",
     "output_type": "stream",
     "text": [
      "(33783, 633) (14479, 633) (33783, 1) (14479, 1)\n"
     ]
    }
   ],
   "source": [
    "xy_df_sub1 = pd.read_csv('data/xy_df/xy_df_sub1_weather_full.csv')\n",
    "xy_df_sub1 = xy_df_sub1.drop([ 'latitude', 'longitude', 'Start Year', 'Start Month', 'Start Day', 'End Year', 'End Month', 'End Day', 'label', 'Unnamed: 0', ], axis=1)\n",
    "x = xy_df_sub1.drop(xy_df_sub1.filter(regex='target').columns, axis=1)#drop target col\n",
    "x = x.select_dtypes(['number'])#drop index col\n",
    "y = xy_df_sub1.filter(regex='target') #filter to cols containing target\n",
    "\n",
    "column_index = x.columns.get_loc('year')\n",
    "x = x.iloc[:, column_index+1:]\n",
    "x_train1, x_test1, y_train1, y_test1 = train_test_split(x, y, test_size=0.3, random_state=42)\n",
    "\n",
    "print(x_train1.shape, x_test1.shape, y_train1.shape, y_test1.shape)"
   ]
  },
  {
   "cell_type": "code",
   "execution_count": 31,
   "metadata": {},
   "outputs": [],
   "source": [
    "results1 = {}"
   ]
  },
  {
   "cell_type": "code",
   "execution_count": 32,
   "metadata": {},
   "outputs": [
    {
     "name": "stdout",
     "output_type": "stream",
     "text": [
      "Dumb baseline AUC 0.5\n",
      "maximum f1 score, thres 0.4961547830323277 0.4\n",
      "auc, f1, accu, accu_bl, precision, recall=  0.5 0.4961547830323277 0.9847365149526901 0.5 0.015263485047309898 0.0\n",
      "[[14258     0]\n",
      " [  221     0]]\n"
     ]
    }
   ],
   "source": [
    "baseline(y_test1, results1)"
   ]
  },
  {
   "cell_type": "code",
   "execution_count": null,
   "metadata": {},
   "outputs": [
    {
     "name": "stdout",
     "output_type": "stream",
     "text": [
      "running xgb...\n",
      "[10, 20, 65]\n",
      "Train AUC:  0.9755363036691113\n",
      "{'learning_rate': 0.1, 'max_depth': 4, 'n_estimators': 100, 'scale_pos_weight': 10}\n",
      "maximum f1 score, thres 0.6145012437639166 0.6\n",
      "auc, f1, accu, accu_bl, precision, recall=  0.9589326370081033 0.5862548586881776 0.9520685130188549 0.7462431188904666 0.09597767885780048 0.5339366515837104\n",
      "[[13667   591]\n",
      " [  103   118]]\n"
     ]
    }
   ],
   "source": [
    "stats_only(x_train1, y_train1, x_test1, y_test1, results1)"
   ]
  },
  {
   "cell_type": "code",
   "execution_count": null,
   "metadata": {},
   "outputs": [
    {
     "name": "stdout",
     "output_type": "stream",
     "text": [
      "running xgb...\n",
      "[10, 20, 65]\n",
      "Train AUC:  0.8753095143386883\n",
      "{'learning_rate': 0.1, 'max_depth': 6, 'n_estimators': 100, 'scale_pos_weight': 20}\n",
      "maximum f1 score, thres 0.5563224804334327 0.6\n",
      "auc, f1, accu, accu_bl, precision, recall=  0.7042259041363774 0.5559558099639905 0.9603563782029145 0.5856255026153453 0.032088957145297796 0.19909502262443438\n",
      "[[13861   397]\n",
      " [  177    44]]\n"
     ]
    }
   ],
   "source": [
    "nlp_only(x_train1, y_train1, x_test1, y_test1, results1)"
   ]
  },
  {
   "cell_type": "code",
   "execution_count": 35,
   "metadata": {},
   "outputs": [
    {
     "name": "stdout",
     "output_type": "stream",
     "text": [
      "running xgb...\n",
      "[10, 20, 65]\n",
      "Train AUC:  0.9990863676794355\n",
      "{'learning_rate': 0.1, 'max_depth': 6, 'n_estimators': 100, 'scale_pos_weight': 10}\n",
      "maximum f1 score, thres 0.5377543506730906 0.4\n",
      "auc, f1, accu, accu_bl, precision, recall=  0.7093306036334923 0.5002709577651027 0.9807307134470613 0.5269219344351571 0.023469274442286067 0.058823529411764705\n",
      "[[14187    71]\n",
      " [  208    13]]\n"
     ]
    }
   ],
   "source": [
    "weather_only(x_train1, y_train1, x_test1, y_test1, results1)"
   ]
  },
  {
   "cell_type": "code",
   "execution_count": null,
   "metadata": {},
   "outputs": [
    {
     "name": "stdout",
     "output_type": "stream",
     "text": [
      "running xgb...\n",
      "[10, 20, 65]\n",
      "Train AUC:  0.9888364092415316\n",
      "{'learning_rate': 0.1, 'max_depth': 4, 'n_estimators': 100, 'scale_pos_weight': 10}\n",
      "maximum f1 score, thres 0.6394274104608029 0.6\n",
      "auc, f1, accu, accu_bl, precision, recall=  0.9632748844976449 0.6353185734470012 0.9649837695973479 0.7282997113948572 0.11148433165336347 0.4841628959276018\n",
      "[[13865   393]\n",
      " [  114   107]]\n"
     ]
    }
   ],
   "source": [
    "stats_nlp(x_train1, y_train1, x_test1, y_test1, results1)"
   ]
  },
  {
   "cell_type": "code",
   "execution_count": 37,
   "metadata": {},
   "outputs": [
    {
     "name": "stdout",
     "output_type": "stream",
     "text": [
      "running xgb...\n",
      "[10, 20, 65]\n",
      "Train AUC:  0.9838890228633794\n",
      "{'learning_rate': 0.1, 'max_depth': 4, 'n_estimators': 100, 'scale_pos_weight': 10}\n",
      "maximum f1 score, thres 0.5705445735285974 0.4\n",
      "auc, f1, accu, accu_bl, precision, recall=  0.7127926593881723 0.5051003539858206 0.9735478969542095 0.572277118061528 0.036738373903134586 0.1583710407239819\n",
      "[[14061   197]\n",
      " [  186    35]]\n"
     ]
    }
   ],
   "source": [
    "weather_nlp(x_train1, y_train1, x_test1, y_test1, results1)"
   ]
  },
  {
   "cell_type": "code",
   "execution_count": null,
   "metadata": {},
   "outputs": [
    {
     "name": "stdout",
     "output_type": "stream",
     "text": [
      "running xgb...\n",
      "[10, 20, 65]\n",
      "Train AUC:  0.9999673608397704\n",
      "{'learning_rate': 0.1, 'max_depth': 6, 'n_estimators': 100, 'scale_pos_weight': 10}\n",
      "maximum f1 score, thres 0.652524130843805 0.4\n",
      "auc, f1, accu, accu_bl, precision, recall=  0.9621782547735366 0.6089128544323812 0.9725809793494026 0.7009739392158344 0.11695018678473228 0.42081447963800905\n",
      "[[13989   269]\n",
      " [  128    93]]\n"
     ]
    }
   ],
   "source": [
    "stats_weather(x_train1, y_train1, x_test1, y_test1, results1)"
   ]
  },
  {
   "cell_type": "code",
   "execution_count": 39,
   "metadata": {},
   "outputs": [
    {
     "name": "stdout",
     "output_type": "stream",
     "text": [
      "running xgb...\n",
      "[10, 20, 65]\n",
      "Train AUC:  0.9999676543573984\n",
      "{'learning_rate': 0.1, 'max_depth': 6, 'n_estimators': 100, 'scale_pos_weight': 10}\n",
      "maximum f1 score, thres 0.6408646720163109 0.4\n",
      "auc, f1, accu, accu_bl, precision, recall=  0.9601178095459943 0.6022015538877009 0.9729953726086056 0.6766832179314748 0.10069394094353928 0.37104072398190047\n",
      "[[14006   252]\n",
      " [  139    82]]\n"
     ]
    }
   ],
   "source": [
    "all_vars(x_train1, y_train1, x_test1, y_test1, results1)"
   ]
  },
  {
   "cell_type": "markdown",
   "metadata": {},
   "source": [
    "# N = 2"
   ]
  },
  {
   "cell_type": "code",
   "execution_count": 49,
   "metadata": {},
   "outputs": [],
   "source": [
    "xy_df_sub2 = pd.read_csv('data/xy_df/xy_df_sub_2.csv')\n",
    "xy_df_sub2 = xy_df_sub2.drop([ 'latitude', 'longitude', 'Start Year', 'Start Month', 'Start Day', 'End Year', 'End Month', 'End Day', 'label', 'Unnamed: 0'], axis=1)\n",
    "x = xy_df_sub2.drop(xy_df_sub2.filter(regex='target').columns, axis=1)#drop target col\n",
    "x = x.select_dtypes(['number'])#drop index col\n",
    "y = xy_df_sub2.filter(regex='target') #filter to cols containing target\n",
    "\n",
    "column_index = x.columns.get_loc('year')\n",
    "x = x.iloc[:, column_index+1:]\n",
    "x_train2, x_test2, y_train2, y_test2 = train_test_split(x, y, test_size=0.3, random_state=42)"
   ]
  },
  {
   "cell_type": "code",
   "execution_count": 50,
   "metadata": {},
   "outputs": [
    {
     "name": "stdout",
     "output_type": "stream",
     "text": [
      "Dumb baseline AUC 0.5\n",
      "maximum f1 score, thres 0.4965402134983831 0.4\n",
      "auc, f1, accu, accu_bl, precision, recall=  0.5 0.4965402134983831 0.9862559569031011 0.5 0.013744043096898957 0.0\n",
      "[[14280     0]\n",
      " [  199     0]]\n"
     ]
    }
   ],
   "source": [
    "results2 = {}\n",
    "\n",
    "baseline(y_test2, results2)"
   ]
  },
  {
   "cell_type": "code",
   "execution_count": 51,
   "metadata": {},
   "outputs": [
    {
     "name": "stdout",
     "output_type": "stream",
     "text": [
      "running xgb...\n",
      "[10, 20, 65]\n",
      "Train AUC:  0.9818527874075745\n",
      "{'learning_rate': 0.1, 'max_depth': 4, 'n_estimators': 100, 'scale_pos_weight': 10}\n",
      "maximum f1 score, thres 0.6605495735305698 0.7\n",
      "auc, f1, accu, accu_bl, precision, recall=  0.9735614346241008 0.6605495735305698 0.9772774362870364 0.6986071815660938 0.12300905196812514 0.4120603015075377\n",
      "[[14068   212]\n",
      " [  117    82]]\n"
     ]
    }
   ],
   "source": [
    "stats_only(x_train2, y_train2, x_test2, y_test2, results2)"
   ]
  },
  {
   "cell_type": "code",
   "execution_count": null,
   "metadata": {},
   "outputs": [
    {
     "name": "stdout",
     "output_type": "stream",
     "text": [
      "running xgb...\n",
      "[10, 20, 65]\n",
      "Train AUC:  0.8888252532198024\n",
      "{'learning_rate': 0.1, 'max_depth': 6, 'n_estimators': 100, 'scale_pos_weight': 10}\n",
      "maximum f1 score, thres 0.5602885757638602 0.5\n",
      "auc, f1, accu, accu_bl, precision, recall=  0.731011324127641 0.5151082322584672 0.9693348988189792 0.5781357769238349 0.030868904305428733 0.17587939698492464\n",
      "[[14000   280]\n",
      " [  164    35]]\n"
     ]
    }
   ],
   "source": [
    "nlp_only(x_train2, y_train2, x_test2, y_test2, results2)"
   ]
  },
  {
   "cell_type": "code",
   "execution_count": 53,
   "metadata": {},
   "outputs": [
    {
     "name": "stdout",
     "output_type": "stream",
     "text": [
      "running xgb...\n",
      "[10, 20, 65]\n",
      "Train AUC:  0.9993584532944344\n",
      "{'learning_rate': 0.1, 'max_depth': 6, 'n_estimators': 100, 'scale_pos_weight': 20}\n",
      "maximum f1 score, thres 0.5618658077044751 0.4\n",
      "auc, f1, accu, accu_bl, precision, recall=  0.7213791295412638 0.5324516819157687 0.9794875336694523 0.5535522500457469 0.03061589294555441 0.11557788944723618\n",
      "[[14159   121]\n",
      " [  176    23]]\n"
     ]
    }
   ],
   "source": [
    "weather_only(x_train2, y_train2, x_test2, y_test2, results2)"
   ]
  },
  {
   "cell_type": "code",
   "execution_count": null,
   "metadata": {},
   "outputs": [
    {
     "name": "stdout",
     "output_type": "stream",
     "text": [
      "running xgb...\n",
      "[10, 20, 65]\n",
      "Train AUC:  0.9840353444350358\n",
      "{'learning_rate': 0.1, 'max_depth': 4, 'n_estimators': 100, 'scale_pos_weight': 10}\n",
      "maximum f1 score, thres 0.5722210017235636 0.4\n",
      "auc, f1, accu, accu_bl, precision, recall=  0.7296244879861493 0.5156429822148172 0.9768630430278334 0.5720421083006066 0.035992636149821 0.15577889447236182\n",
      "[[14113   167]\n",
      " [  168    31]]\n"
     ]
    }
   ],
   "source": [
    "weather_nlp(x_train2, y_train2, x_test2, y_test2, results2)"
   ]
  },
  {
   "cell_type": "code",
   "execution_count": null,
   "metadata": {},
   "outputs": [
    {
     "name": "stdout",
     "output_type": "stream",
     "text": [
      "running xgb...\n",
      "[10, 20, 65]\n",
      "Train AUC:  0.9899113290337396\n",
      "{'learning_rate': 0.1, 'max_depth': 4, 'n_estimators': 100, 'scale_pos_weight': 10}\n",
      "maximum f1 score, thres 0.6639083141366179 0.7\n",
      "auc, f1, accu, accu_bl, precision, recall=  0.9713295117041791 0.6639083141366179 0.9781752883486429 0.6965848148304548 0.12632123677232232 0.40703517587939697\n",
      "[[14082   198]\n",
      " [  118    81]]\n"
     ]
    }
   ],
   "source": [
    "stats_nlp(x_train2, y_train2, x_test2, y_test2, results2)"
   ]
  },
  {
   "cell_type": "code",
   "execution_count": null,
   "metadata": {},
   "outputs": [
    {
     "name": "stdout",
     "output_type": "stream",
     "text": [
      "running xgb...\n",
      "[10, 20, 65]\n",
      "Train AUC:  0.9999905079270226\n",
      "{'learning_rate': 0.1, 'max_depth': 6, 'n_estimators': 100, 'scale_pos_weight': 10}\n",
      "maximum f1 score, thres 0.6514583563554209 0.4\n",
      "auc, f1, accu, accu_bl, precision, recall=  0.9693254437453374 0.6041131111846925 0.9794184681262518 0.6650069324212097 0.10792495171042518 0.3417085427135678\n",
      "[[14113   167]\n",
      " [  131    68]]\n"
     ]
    }
   ],
   "source": [
    "stats_weather(x_train2, y_train2, x_test2, y_test2, results2)"
   ]
  },
  {
   "cell_type": "code",
   "execution_count": 57,
   "metadata": {},
   "outputs": [
    {
     "name": "stdout",
     "output_type": "stream",
     "text": [
      "running xgb...\n",
      "[10, 20, 65]\n",
      "Train AUC:  0.9999882246104987\n",
      "{'learning_rate': 0.1, 'max_depth': 6, 'n_estimators': 100, 'scale_pos_weight': 10}\n",
      "maximum f1 score, thres 0.6590628045920017 0.4\n",
      "auc, f1, accu, accu_bl, precision, recall=  0.9681726208071169 0.5906581345301145 0.9785896816078459 0.6844071548217276 0.11885675621723797 0.38190954773869346\n",
      "[[14093   187]\n",
      " [  123    76]]\n"
     ]
    }
   ],
   "source": [
    "all_vars(x_train2, y_train2, x_test2, y_test2, results2)"
   ]
  },
  {
   "cell_type": "markdown",
   "metadata": {},
   "source": [
    "# N = 5"
   ]
  },
  {
   "cell_type": "code",
   "execution_count": 62,
   "metadata": {},
   "outputs": [
    {
     "name": "stdout",
     "output_type": "stream",
     "text": [
      "(33783, 633) (14479, 633) (33783, 1) (14479, 1)\n"
     ]
    }
   ],
   "source": [
    "xy_df_sub5 = pd.read_csv('xy_df_sub_5_combined.csv')\n",
    "xy_df_sub5 = xy_df_sub5.drop([ 'latitude', 'longitude', 'Start Year', 'Start Month', 'Start Day', 'End Year', 'End Month', 'End Day', 'label', 'Unnamed: 0'], axis=1)\n",
    "x = xy_df_sub5.drop(xy_df_sub5.filter(regex='target').columns, axis=1)#drop target col\n",
    "x = x.select_dtypes(['number'])#drop index col\n",
    "y = xy_df_sub5.filter(regex='target') #filter to cols containing target\n",
    "\n",
    "column_index = x.columns.get_loc('year')\n",
    "x = x.iloc[:, column_index+1:]\n",
    "x_train5, x_test5, y_train5, y_test5 = train_test_split(x, y, test_size=0.3, random_state=42)\n",
    "\n",
    "print(x_train5.shape, x_test5.shape, y_train5.shape, y_test5.shape)\n"
   ]
  },
  {
   "cell_type": "code",
   "execution_count": null,
   "metadata": {},
   "outputs": [
    {
     "name": "stdout",
     "output_type": "stream",
     "text": [
      "Dumb baseline AUC 0.5\n",
      "maximum f1 score, thres 0.49689009347093366 0.4\n",
      "auc, f1, accu, accu_bl, precision, recall=  0.5 0.49689009347093366 0.987637267767111 0.5 0.012362732232889011 0.0\n",
      "[[14300     0]\n",
      " [  179     0]]\n"
     ]
    }
   ],
   "source": [
    "results5 = {}\n",
    "baseline(y_test5, results5)"
   ]
  },
  {
   "cell_type": "code",
   "execution_count": null,
   "metadata": {},
   "outputs": [
    {
     "name": "stdout",
     "output_type": "stream",
     "text": [
      "running xgb...\n",
      "[10, 20, 65]\n",
      "Train AUC:  0.9849488580069498\n",
      "{'learning_rate': 0.1, 'max_depth': 4, 'n_estimators': 100, 'scale_pos_weight': 10}\n",
      "maximum f1 score, thres 0.6748674005110863 0.7\n",
      "auc, f1, accu, accu_bl, precision, recall=  0.9743772707739188 0.6748674005110863 0.9796256647558533 0.7248855334609525 0.14310558831587566 0.46368715083798884\n",
      "[[14101   199]\n",
      " [   96    83]]\n"
     ]
    }
   ],
   "source": [
    "stats_only(x_train5, y_train5, x_test5, y_test5, results5)\n",
    "\n"
   ]
  },
  {
   "cell_type": "code",
   "execution_count": 65,
   "metadata": {},
   "outputs": [
    {
     "name": "stdout",
     "output_type": "stream",
     "text": [
      "running xgb...\n",
      "[10, 20, 65]\n",
      "Train AUC:  0.8989277296190276\n",
      "{'learning_rate': 0.1, 'max_depth': 4, 'n_estimators': 100, 'scale_pos_weight': 10}\n",
      "maximum f1 score, thres 0.559744135036995 0.4\n",
      "auc, f1, accu, accu_bl, precision, recall=  0.7471119662460444 0.5116270255233326 0.9675391946957663 0.591883423838731 0.030760854237860832 0.20670391061452514\n",
      "[[13972   328]\n",
      " [  142    37]]\n"
     ]
    }
   ],
   "source": [
    "nlp_only(x_train5, y_train5, x_test5, y_test5, results5)"
   ]
  },
  {
   "cell_type": "code",
   "execution_count": 66,
   "metadata": {},
   "outputs": [
    {
     "name": "stdout",
     "output_type": "stream",
     "text": [
      "running xgb...\n",
      "[10, 20, 65]\n",
      "Train AUC:  0.999511544138674\n",
      "{'learning_rate': 0.1, 'max_depth': 6, 'n_estimators': 100, 'scale_pos_weight': 20}\n",
      "maximum f1 score, thres 0.5343266790851295 0.5\n",
      "auc, f1, accu, accu_bl, precision, recall=  0.6996911747470407 0.5182796030688209 0.9864631535327025 0.521472242840958 0.022644810900658997 0.0446927374301676\n",
      "[[14275    25]\n",
      " [  171     8]]\n"
     ]
    }
   ],
   "source": [
    "weather_only(x_train5, y_train5, x_test5, y_test5, results5)"
   ]
  },
  {
   "cell_type": "code",
   "execution_count": 67,
   "metadata": {},
   "outputs": [
    {
     "name": "stdout",
     "output_type": "stream",
     "text": [
      "running xgb...\n",
      "[10, 20, 65]\n",
      "Train AUC:  0.9808870702180577\n",
      "{'learning_rate': 0.1, 'max_depth': 4, 'n_estimators': 100, 'scale_pos_weight': 65}\n",
      "maximum f1 score, thres 0.5683454486568243 0.7\n",
      "auc, f1, accu, accu_bl, precision, recall=  0.722480173457827 0.5683454486568243 0.9685751778437738 0.6034412235808884 0.03576306019215456 0.22905027932960895\n",
      "[[13983   317]\n",
      " [  138    41]]\n"
     ]
    }
   ],
   "source": [
    "weather_nlp(x_train5, y_train5, x_test5, y_test5, results5)"
   ]
  },
  {
   "cell_type": "code",
   "execution_count": 68,
   "metadata": {},
   "outputs": [
    {
     "name": "stdout",
     "output_type": "stream",
     "text": [
      "running xgb...\n",
      "[10, 20, 65]\n",
      "Train AUC:  0.9930672341728458\n",
      "{'learning_rate': 0.1, 'max_depth': 4, 'n_estimators': 100, 'scale_pos_weight': 10}\n",
      "maximum f1 score, thres 0.6420605551907898 0.5\n",
      "auc, f1, accu, accu_bl, precision, recall=  0.9681359143649646 0.6369659980355152 0.9708543407693901 0.739753291401336 0.11312413038513905 0.5027932960893855\n",
      "[[13967   333]\n",
      " [   89    90]]\n"
     ]
    }
   ],
   "source": [
    "stats_nlp(x_train5, y_train5, x_test5, y_test5, results5)"
   ]
  },
  {
   "cell_type": "code",
   "execution_count": 69,
   "metadata": {},
   "outputs": [
    {
     "name": "stdout",
     "output_type": "stream",
     "text": [
      "running xgb...\n",
      "[10, 20, 65]\n",
      "Train AUC:  0.9999705727729907\n",
      "{'learning_rate': 0.1, 'max_depth': 6, 'n_estimators': 100, 'scale_pos_weight': 10}\n",
      "maximum f1 score, thres 0.6201913982089219 0.4\n",
      "auc, f1, accu, accu_bl, precision, recall=  0.9670244559909364 0.5717795619100151 0.9797637958422543 0.6311722076805876 0.07224931222563563 0.2737430167597765\n",
      "[[14137   163]\n",
      " [  130    49]]\n"
     ]
    }
   ],
   "source": [
    "stats_weather(x_train5, y_train5, x_test5, y_test5, results5)"
   ]
  },
  {
   "cell_type": "code",
   "execution_count": 70,
   "metadata": {},
   "outputs": [
    {
     "name": "stdout",
     "output_type": "stream",
     "text": [
      "running xgb...\n",
      "[10, 20, 65]\n",
      "Train AUC:  0.9999831380183886\n",
      "{'learning_rate': 0.1, 'max_depth': 6, 'n_estimators': 100, 'scale_pos_weight': 10}\n",
      "maximum f1 score, thres 0.596686619458772 0.5\n",
      "auc, f1, accu, accu_bl, precision, recall=  0.9638748681486111 0.558566881820114 0.9820429587678707 0.5881927569637067 0.051469956264290045 0.18435754189944134\n",
      "[[14186   114]\n",
      " [  146    33]]\n"
     ]
    }
   ],
   "source": [
    "all_vars(x_train5, y_train5, x_test5, y_test5, results5)"
   ]
  }
 ],
 "metadata": {
  "kernelspec": {
   "display_name": ".venv",
   "language": "python",
   "name": "python3"
  },
  "language_info": {
   "codemirror_mode": {
    "name": "ipython",
    "version": 3
   },
   "file_extension": ".py",
   "mimetype": "text/x-python",
   "name": "python",
   "nbconvert_exporter": "python",
   "pygments_lexer": "ipython3",
   "version": "3.11.0"
  }
 },
 "nbformat": 4,
 "nbformat_minor": 2
}
