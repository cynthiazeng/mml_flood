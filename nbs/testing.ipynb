{
 "cells": [
  {
   "cell_type": "markdown",
   "metadata": {},
   "source": [
    "### Testing"
   ]
  },
  {
   "cell_type": "code",
   "execution_count": null,
   "metadata": {},
   "outputs": [],
   "source": [
    "%cd .."
   ]
  },
  {
   "cell_type": "code",
   "execution_count": 5,
   "metadata": {},
   "outputs": [],
   "source": [
    "import pandas as pd\n",
    "import utils\n",
    "import numpy as np\n",
    "from sklearn.model_selection import train_test_split\n"
   ]
  },
  {
   "cell_type": "code",
   "execution_count": 47,
   "metadata": {},
   "outputs": [],
   "source": [
    "xy_df_sub1_new_combined = pd.read_csv('data/xy_df/xy_df_sub1_weather_full.csv')\n",
    "without_extra_columns = xy_df_sub1_new_combined.drop([ 'latitude', 'longitude', 'Start Year', 'Start Month', 'Start Day', 'End Year', 'End Month', 'End Day'], axis=1)\n",
    "x = without_extra_columns.drop(without_extra_columns.filter(regex='target').columns, axis=1)#drop target col\n",
    "x = x.select_dtypes(['number'])#drop index col\n",
    "y = without_extra_columns.filter(regex='target') #filter to cols containing target\n",
    "x_train, x_test, y_train, y_test = train_test_split(x, y, test_size=0.3, random_state=42)\n",
    "x_train = x_train.drop(['label', 'Unnamed: 0'], axis=1) # uncomment these next two lines to keep flood data in stats\n",
    "x_test = x_test.drop(['label', 'Unnamed: 0'], axis=1) # "
   ]
  },
  {
   "cell_type": "code",
   "execution_count": 35,
   "metadata": {},
   "outputs": [],
   "source": [
    "results = {}"
   ]
  },
  {
   "cell_type": "code",
   "execution_count": 38,
   "metadata": {},
   "outputs": [
    {
     "name": "stdout",
     "output_type": "stream",
     "text": [
      "running xgb...\n",
      "[10, 20, 65]\n",
      "Train AUC:  0.980857895671155\n",
      "{'learning_rate': 0.1, 'max_depth': 4, 'n_estimators': 100, 'scale_pos_weight': 10}\n",
      "maximum f1 score, thres 0.6488566549213951 0.7\n",
      "auc, f1, accu, accu_bl, precision, recall=  0.9694155983875686 0.6488566549213951 0.9734097658678086 0.688030503158027 0.11058279692579132 0.3936651583710407\n",
      "[[14007   251]\n",
      " [  134    87]]\n"
     ]
    }
   ],
   "source": [
    "def stats_only():\n",
    "\ty_pred, y_pred_prob = utils.run_xgb(x_train.iloc[:, 2:27], np.ravel(y_train), x_test.iloc[:, 2:27])\n",
    "\tresults['stats only'] = utils.get_scores_clf(y_test, y_pred_prob)\n",
    "\n",
    "stats_only()"
   ]
  },
  {
   "cell_type": "code",
   "execution_count": 48,
   "metadata": {},
   "outputs": [
    {
     "name": "stdout",
     "output_type": "stream",
     "text": [
      "running xgb...\n",
      "[10, 20, 65]\n",
      "Train AUC:  0.8753095143386883\n",
      "{'learning_rate': 0.1, 'max_depth': 6, 'n_estimators': 100, 'scale_pos_weight': 20}\n",
      "maximum f1 score, thres 0.5563224804334327 0.6\n",
      "auc, f1, accu, accu_bl, precision, recall=  0.7042259041363774 0.5559558099639905 0.9603563782029145 0.5856255026153453 0.032088957145297796 0.19909502262443438\n",
      "[[13861   397]\n",
      " [  177    44]]\n"
     ]
    }
   ],
   "source": [
    "def nlp_only():\n",
    "\ty_pred, y_pred_prob = utils.run_xgb(x_train.iloc[:, 27:155], np.ravel(y_train), x_test.iloc[:, 27:155])\n",
    "\tresults['nlp only'] = utils.get_scores_clf(y_test, y_pred_prob)\n",
    "\n",
    "nlp_only()"
   ]
  },
  {
   "cell_type": "code",
   "execution_count": null,
   "metadata": {},
   "outputs": [
    {
     "name": "stdout",
     "output_type": "stream",
     "text": [
      "running xgb...\n",
      "[10, 20, 65]\n",
      "Train AUC:  0.9990863676794355\n",
      "{'learning_rate': 0.1, 'max_depth': 6, 'n_estimators': 100, 'scale_pos_weight': 10}\n",
      "maximum f1 score, thres 0.5377543506730906 0.4\n",
      "auc, f1, accu, accu_bl, precision, recall=  0.7093306036334923 0.5002709577651027 0.9807307134470613 0.5269219344351571 0.023469274442286067 0.058823529411764705\n",
      "[[14187    71]\n",
      " [  208    13]]\n"
     ]
    }
   ],
   "source": [
    "def weather_only():\n",
    "\ty_pred, y_pred_prob = utils.run_xgb(x_train.iloc[:, 155:], np.ravel(y_train), x_test.iloc[:, 155:])\n",
    "\tresults['weather only'] = utils.get_scores_clf(y_test, y_pred_prob)\n",
    "\n",
    "weather_only()"
   ]
  },
  {
   "cell_type": "code",
   "execution_count": 51,
   "metadata": {},
   "outputs": [
    {
     "name": "stdout",
     "output_type": "stream",
     "text": [
      "running xgb...\n",
      "[10, 20, 65]\n",
      "Train AUC:  0.9888364092415316\n",
      "{'learning_rate': 0.1, 'max_depth': 4, 'n_estimators': 100, 'scale_pos_weight': 10}\n",
      "maximum f1 score, thres 0.6394274104608029 0.6\n",
      "auc, f1, accu, accu_bl, precision, recall=  0.9632748844976449 0.6353185734470012 0.9649837695973479 0.7282997113948572 0.11148433165336347 0.4841628959276018\n",
      "[[13865   393]\n",
      " [  114   107]]\n"
     ]
    }
   ],
   "source": [
    "def stats_nlp():\n",
    "\ty_pred, y_pred_prob = utils.run_xgb(x_train.iloc[:, 2:155], np.ravel(y_train), x_test.iloc[:, 2:155])\n",
    "\tresults['stats nlp'] = utils.get_scores_clf(y_test, y_pred_prob)\n",
    "\n",
    "stats_nlp()"
   ]
  }
 ],
 "metadata": {
  "kernelspec": {
   "display_name": ".venv",
   "language": "python",
   "name": "python3"
  },
  "language_info": {
   "codemirror_mode": {
    "name": "ipython",
    "version": 3
   },
   "file_extension": ".py",
   "mimetype": "text/x-python",
   "name": "python",
   "nbconvert_exporter": "python",
   "pygments_lexer": "ipython3",
   "version": "3.11.0"
  }
 },
 "nbformat": 4,
 "nbformat_minor": 2
}
