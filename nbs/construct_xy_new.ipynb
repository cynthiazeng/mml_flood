{
  "cells": [
    {
      "cell_type": "code",
      "execution_count": 33,
      "metadata": {
        "colab": {
          "base_uri": "https://localhost:8080/"
        },
        "id": "eGhvnIzY-Htt",
        "outputId": "cae26bdd-f9a4-4a5c-88a8-a70ce5b1ea8d"
      },
      "outputs": [
        {
          "name": "stdout",
          "output_type": "stream",
          "text": [
            "Requirement already satisfied: scikit-learn==1.3.1 in /Users/youngoh/Desktop/flood_urop_repo/.venv/lib/python3.11/site-packages (1.3.1)\n",
            "Requirement already satisfied: numpy<2.0,>=1.17.3 in /Users/youngoh/Desktop/flood_urop_repo/.venv/lib/python3.11/site-packages (from scikit-learn==1.3.1) (1.26.4)\n",
            "Requirement already satisfied: scipy>=1.5.0 in /Users/youngoh/Desktop/flood_urop_repo/.venv/lib/python3.11/site-packages (from scikit-learn==1.3.1) (1.14.0)\n",
            "Requirement already satisfied: joblib>=1.1.1 in /Users/youngoh/Desktop/flood_urop_repo/.venv/lib/python3.11/site-packages (from scikit-learn==1.3.1) (1.4.2)\n",
            "Requirement already satisfied: threadpoolctl>=2.0.0 in /Users/youngoh/Desktop/flood_urop_repo/.venv/lib/python3.11/site-packages (from scikit-learn==1.3.1) (3.5.0)\n",
            "\n",
            "\u001b[1m[\u001b[0m\u001b[34;49mnotice\u001b[0m\u001b[1;39;49m]\u001b[0m\u001b[39;49m A new release of pip is available: \u001b[0m\u001b[31;49m24.3.1\u001b[0m\u001b[39;49m -> \u001b[0m\u001b[32;49m25.0\u001b[0m\n",
            "\u001b[1m[\u001b[0m\u001b[34;49mnotice\u001b[0m\u001b[1;39;49m]\u001b[0m\u001b[39;49m To update, run: \u001b[0m\u001b[32;49mpip install --upgrade pip\u001b[0m\n",
            "Note: you may need to restart the kernel to use updated packages.\n"
          ]
        }
      ],
      "source": [
        "#run this in colab to downgrade sklearn\n",
        "%pip install scikit-learn==1.3.1"
      ]
    },
    {
      "cell_type": "code",
      "execution_count": 35,
      "metadata": {
        "id": "IyNtfi8p8_Wg"
      },
      "outputs": [
        {
          "name": "stdout",
          "output_type": "stream",
          "text": [
            "/Users/youngoh/Desktop/flood_urop_repo/mml_flood\n"
          ]
        },
        {
          "name": "stderr",
          "output_type": "stream",
          "text": [
            "/Users/youngoh/Desktop/flood_urop_repo/.venv/lib/python3.11/site-packages/IPython/core/magics/osm.py:417: UserWarning: This is now an optional IPython functionality, setting dhist requires you to install the `pickleshare` library.\n",
            "  self.shell.db['dhist'] = compress_dhist(dhist)[-100:]\n"
          ]
        }
      ],
      "source": [
        "import pandas as pd\n",
        "import numpy as np\n",
        "# import seaborn as sns\n",
        "import matplotlib.pyplot as plt\n",
        "%cd mml_flood/"
      ]
    },
    {
      "cell_type": "markdown",
      "metadata": {
        "id": "1CISSI2I8_Wj"
      },
      "source": [
        "### 1. Reading raw data"
      ]
    },
    {
      "cell_type": "code",
      "execution_count": 36,
      "metadata": {
        "colab": {
          "base_uri": "https://localhost:8080/"
        },
        "id": "Wv1IhVtj8_Wk",
        "outputId": "d7d9ef31-0637-4d6e-fabc-98c0d97dfb1c"
      },
      "outputs": [
        {
          "name": "stderr",
          "output_type": "stream",
          "text": [
            "/var/folders/1d/zrkty6fd25b94gwy6539wfkw0000gn/T/ipykernel_17648/2624913772.py:4: DtypeWarning: Columns (8,16,17,18,19,24,25,26,27,46,48) have mixed types. Specify dtype option on import or set low_memory=False.\n",
            "  emdat = pd.read_csv('data/disaster/emdat_public_2022_09_21_query_uid-47Yzpr.csv', skiprows=[0,1,2,3,4,5])\n"
          ]
        }
      ],
      "source": [
        "#gdis data - geocoded disasters\n",
        "gdis = pd.read_csv('data/disaster/pend-gdis-1960-2018-disasterlocations.csv')\n",
        "# #emdat data - international disasters\n",
        "emdat = pd.read_csv('data/disaster/emdat_public_2022_09_21_query_uid-47Yzpr.csv', skiprows=[0,1,2,3,4,5])"
      ]
    },
    {
      "cell_type": "code",
      "execution_count": 37,
      "metadata": {
        "colab": {
          "base_uri": "https://localhost:8080/",
          "height": 263
        },
        "id": "M70WbWZI8_Wl",
        "outputId": "e109ba3b-362e-4023-ca2e-ea9948871074"
      },
      "outputs": [
        {
          "data": {
            "text/html": [
              "<div>\n",
              "<style scoped>\n",
              "    .dataframe tbody tr th:only-of-type {\n",
              "        vertical-align: middle;\n",
              "    }\n",
              "\n",
              "    .dataframe tbody tr th {\n",
              "        vertical-align: top;\n",
              "    }\n",
              "\n",
              "    .dataframe thead th {\n",
              "        text-align: right;\n",
              "    }\n",
              "</style>\n",
              "<table border=\"1\" class=\"dataframe\">\n",
              "  <thead>\n",
              "    <tr style=\"text-align: right;\">\n",
              "      <th></th>\n",
              "      <th>Dis No</th>\n",
              "      <th>Year</th>\n",
              "      <th>Seq</th>\n",
              "      <th>Glide</th>\n",
              "      <th>Disaster Group</th>\n",
              "      <th>Disaster Subgroup</th>\n",
              "      <th>Disaster Type</th>\n",
              "      <th>Disaster Subtype</th>\n",
              "      <th>Disaster Subsubtype</th>\n",
              "      <th>Event Name</th>\n",
              "      <th>...</th>\n",
              "      <th>Reconstruction Costs, Adjusted ('000 US$)</th>\n",
              "      <th>Insured Damages ('000 US$)</th>\n",
              "      <th>Insured Damages, Adjusted ('000 US$)</th>\n",
              "      <th>Total Damages ('000 US$)</th>\n",
              "      <th>Total Damages, Adjusted ('000 US$)</th>\n",
              "      <th>CPI</th>\n",
              "      <th>Adm Level</th>\n",
              "      <th>Admin1 Code</th>\n",
              "      <th>Admin2 Code</th>\n",
              "      <th>Geo Locations</th>\n",
              "    </tr>\n",
              "  </thead>\n",
              "  <tbody>\n",
              "    <tr>\n",
              "      <th>0</th>\n",
              "      <td>1900-9002-CPV</td>\n",
              "      <td>1900</td>\n",
              "      <td>9002</td>\n",
              "      <td>NaN</td>\n",
              "      <td>Natural</td>\n",
              "      <td>Climatological</td>\n",
              "      <td>Drought</td>\n",
              "      <td>Drought</td>\n",
              "      <td>NaN</td>\n",
              "      <td>NaN</td>\n",
              "      <td>...</td>\n",
              "      <td>NaN</td>\n",
              "      <td>NaN</td>\n",
              "      <td>NaN</td>\n",
              "      <td>NaN</td>\n",
              "      <td>NaN</td>\n",
              "      <td>3.077091</td>\n",
              "      <td>NaN</td>\n",
              "      <td>NaN</td>\n",
              "      <td>NaN</td>\n",
              "      <td>NaN</td>\n",
              "    </tr>\n",
              "    <tr>\n",
              "      <th>1</th>\n",
              "      <td>1900-9001-IND</td>\n",
              "      <td>1900</td>\n",
              "      <td>9001</td>\n",
              "      <td>NaN</td>\n",
              "      <td>Natural</td>\n",
              "      <td>Climatological</td>\n",
              "      <td>Drought</td>\n",
              "      <td>Drought</td>\n",
              "      <td>NaN</td>\n",
              "      <td>NaN</td>\n",
              "      <td>...</td>\n",
              "      <td>NaN</td>\n",
              "      <td>NaN</td>\n",
              "      <td>NaN</td>\n",
              "      <td>NaN</td>\n",
              "      <td>NaN</td>\n",
              "      <td>3.077091</td>\n",
              "      <td>NaN</td>\n",
              "      <td>NaN</td>\n",
              "      <td>NaN</td>\n",
              "      <td>NaN</td>\n",
              "    </tr>\n",
              "  </tbody>\n",
              "</table>\n",
              "<p>2 rows × 50 columns</p>\n",
              "</div>"
            ],
            "text/plain": [
              "          Dis No  Year   Seq Glide Disaster Group Disaster Subgroup  \\\n",
              "0  1900-9002-CPV  1900  9002   NaN        Natural    Climatological   \n",
              "1  1900-9001-IND  1900  9001   NaN        Natural    Climatological   \n",
              "\n",
              "  Disaster Type Disaster Subtype Disaster Subsubtype Event Name  ...  \\\n",
              "0       Drought          Drought                 NaN        NaN  ...   \n",
              "1       Drought          Drought                 NaN        NaN  ...   \n",
              "\n",
              "  Reconstruction Costs, Adjusted ('000 US$) Insured Damages ('000 US$)  \\\n",
              "0                                       NaN                        NaN   \n",
              "1                                       NaN                        NaN   \n",
              "\n",
              "  Insured Damages, Adjusted ('000 US$) Total Damages ('000 US$)  \\\n",
              "0                                  NaN                      NaN   \n",
              "1                                  NaN                      NaN   \n",
              "\n",
              "  Total Damages, Adjusted ('000 US$)       CPI Adm Level Admin1 Code  \\\n",
              "0                                NaN  3.077091       NaN         NaN   \n",
              "1                                NaN  3.077091       NaN         NaN   \n",
              "\n",
              "  Admin2 Code Geo Locations  \n",
              "0         NaN           NaN  \n",
              "1         NaN           NaN  \n",
              "\n",
              "[2 rows x 50 columns]"
            ]
          },
          "execution_count": 37,
          "metadata": {},
          "output_type": "execute_result"
        }
      ],
      "source": [
        "# This is where we obtain the statistical features\n",
        "emdat.head(2)"
      ]
    },
    {
      "cell_type": "code",
      "execution_count": 38,
      "metadata": {
        "id": "rel9Gv_EuTFP"
      },
      "outputs": [],
      "source": [
        "# #To do: fix the grid_id, why NLP are only positive, where as GDIS has negative? -> maybe merge using location text?\n",
        "# df1= gdis[['location','grid_id']]\n",
        "# df2 = df_nlp[['location','grid_id']]"
      ]
    },
    {
      "cell_type": "code",
      "execution_count": 39,
      "metadata": {
        "id": "ADpr3dwn8_Wl"
      },
      "outputs": [],
      "source": [
        "#select certain columns from emdat and join with gdis\n",
        "# we grab the disaster number and convert it into string format and grab everything except for the last 4 ( so only the dates)\n",
        "emdat['disasterno'] = emdat['Dis No'].str[:-4] #format disasterno to merge\n",
        "\n",
        "#These are the columns that we want to keep  , the features below are left out!\n",
        "cols = ['disasterno', 'Year', 'Event Name',\n",
        "#         'Disaster Type', 'Disaster Subtype',\n",
        "#         'Region', 'Continent', #'Location',\n",
        "        'Start Year', 'Start Month', 'Start Day',\n",
        "        'End Year', 'End Month','End Day',\n",
        "        \"Total Damages, Adjusted ('000 US$)\"]\n",
        "\n",
        "emdat = emdat[cols]\n"
      ]
    },
    {
      "cell_type": "code",
      "execution_count": 40,
      "metadata": {
        "id": "4p8tOgz48_Wl"
      },
      "outputs": [],
      "source": [
        "#join emdat and gdis into one dataframe\n",
        "gdis = pd.merge(emdat, gdis, on = 'disasterno', how='right')"
      ]
    },
    {
      "cell_type": "code",
      "execution_count": 41,
      "metadata": {
        "colab": {
          "base_uri": "https://localhost:8080/",
          "height": 225
        },
        "id": "YmWCl-zg8_Wm",
        "outputId": "9cab5437-a00b-4284-a05a-69848b24e9a2"
      },
      "outputs": [
        {
          "data": {
            "text/html": [
              "<div>\n",
              "<style scoped>\n",
              "    .dataframe tbody tr th:only-of-type {\n",
              "        vertical-align: middle;\n",
              "    }\n",
              "\n",
              "    .dataframe tbody tr th {\n",
              "        vertical-align: top;\n",
              "    }\n",
              "\n",
              "    .dataframe thead th {\n",
              "        text-align: right;\n",
              "    }\n",
              "</style>\n",
              "<table border=\"1\" class=\"dataframe\">\n",
              "  <thead>\n",
              "    <tr style=\"text-align: right;\">\n",
              "      <th></th>\n",
              "      <th>disasterno</th>\n",
              "      <th>Year</th>\n",
              "      <th>Event Name</th>\n",
              "      <th>Start Year</th>\n",
              "      <th>Start Month</th>\n",
              "      <th>Start Day</th>\n",
              "      <th>End Year</th>\n",
              "      <th>End Month</th>\n",
              "      <th>End Day</th>\n",
              "      <th>Total Damages, Adjusted ('000 US$)</th>\n",
              "      <th>...</th>\n",
              "      <th>level</th>\n",
              "      <th>adm1</th>\n",
              "      <th>adm2</th>\n",
              "      <th>adm3</th>\n",
              "      <th>location</th>\n",
              "      <th>historical</th>\n",
              "      <th>hist_country</th>\n",
              "      <th>disastertype</th>\n",
              "      <th>latitude</th>\n",
              "      <th>longitude</th>\n",
              "    </tr>\n",
              "  </thead>\n",
              "  <tbody>\n",
              "    <tr>\n",
              "      <th>0</th>\n",
              "      <td>2009-0631</td>\n",
              "      <td>2009.0</td>\n",
              "      <td>NaN</td>\n",
              "      <td>2009.0</td>\n",
              "      <td>12.0</td>\n",
              "      <td>27.0</td>\n",
              "      <td>2010.0</td>\n",
              "      <td>1.0</td>\n",
              "      <td>8.0</td>\n",
              "      <td>NaN</td>\n",
              "      <td>...</td>\n",
              "      <td>3</td>\n",
              "      <td>Shkoder</td>\n",
              "      <td>Shkodres</td>\n",
              "      <td>Ana E Malit</td>\n",
              "      <td>Ana E Malit</td>\n",
              "      <td>0</td>\n",
              "      <td>NaN</td>\n",
              "      <td>flood</td>\n",
              "      <td>42.020948</td>\n",
              "      <td>19.418317</td>\n",
              "    </tr>\n",
              "    <tr>\n",
              "      <th>1</th>\n",
              "      <td>2009-0631</td>\n",
              "      <td>2009.0</td>\n",
              "      <td>NaN</td>\n",
              "      <td>2009.0</td>\n",
              "      <td>12.0</td>\n",
              "      <td>27.0</td>\n",
              "      <td>2010.0</td>\n",
              "      <td>1.0</td>\n",
              "      <td>8.0</td>\n",
              "      <td>NaN</td>\n",
              "      <td>...</td>\n",
              "      <td>3</td>\n",
              "      <td>Shkoder</td>\n",
              "      <td>Shkodres</td>\n",
              "      <td>Bushat</td>\n",
              "      <td>Bushat</td>\n",
              "      <td>0</td>\n",
              "      <td>NaN</td>\n",
              "      <td>flood</td>\n",
              "      <td>41.959294</td>\n",
              "      <td>19.514309</td>\n",
              "    </tr>\n",
              "    <tr>\n",
              "      <th>2</th>\n",
              "      <td>2001-0146</td>\n",
              "      <td>2001.0</td>\n",
              "      <td>NaN</td>\n",
              "      <td>2001.0</td>\n",
              "      <td>4.0</td>\n",
              "      <td>2.0</td>\n",
              "      <td>2001.0</td>\n",
              "      <td>4.0</td>\n",
              "      <td>9.0</td>\n",
              "      <td>NaN</td>\n",
              "      <td>...</td>\n",
              "      <td>3</td>\n",
              "      <td>Cunene</td>\n",
              "      <td>Cuanhama</td>\n",
              "      <td>Onjiva</td>\n",
              "      <td>Onjiva</td>\n",
              "      <td>0</td>\n",
              "      <td>NaN</td>\n",
              "      <td>flood</td>\n",
              "      <td>-17.093484</td>\n",
              "      <td>15.665758</td>\n",
              "    </tr>\n",
              "  </tbody>\n",
              "</table>\n",
              "<p>3 rows × 27 columns</p>\n",
              "</div>"
            ],
            "text/plain": [
              "  disasterno    Year Event Name  Start Year  Start Month  Start Day  End Year  \\\n",
              "0  2009-0631  2009.0        NaN      2009.0         12.0       27.0    2010.0   \n",
              "1  2009-0631  2009.0        NaN      2009.0         12.0       27.0    2010.0   \n",
              "2  2001-0146  2001.0        NaN      2001.0          4.0        2.0    2001.0   \n",
              "\n",
              "   End Month  End Day  Total Damages, Adjusted ('000 US$)  ... level     adm1  \\\n",
              "0        1.0      8.0                                 NaN  ...     3  Shkoder   \n",
              "1        1.0      8.0                                 NaN  ...     3  Shkoder   \n",
              "2        4.0      9.0                                 NaN  ...     3   Cunene   \n",
              "\n",
              "       adm2         adm3     location  historical hist_country  disastertype  \\\n",
              "0  Shkodres  Ana E Malit  Ana E Malit           0          NaN         flood   \n",
              "1  Shkodres       Bushat       Bushat           0          NaN         flood   \n",
              "2  Cuanhama       Onjiva       Onjiva           0          NaN         flood   \n",
              "\n",
              "    latitude  longitude  \n",
              "0  42.020948  19.418317  \n",
              "1  41.959294  19.514309  \n",
              "2 -17.093484  15.665758  \n",
              "\n",
              "[3 rows x 27 columns]"
            ]
          },
          "execution_count": 41,
          "metadata": {},
          "output_type": "execute_result"
        }
      ],
      "source": [
        "gdis.head(3)"
      ]
    },
    {
      "cell_type": "code",
      "execution_count": 42,
      "metadata": {
        "colab": {
          "base_uri": "https://localhost:8080/",
          "height": 211
        },
        "id": "k7EdAMy38_Wm",
        "outputId": "7f5b7dfc-c626-4777-97db-e31e7b811ee3"
      },
      "outputs": [
        {
          "name": "stdout",
          "output_type": "stream",
          "text": [
            "shape (9924, 27)\n"
          ]
        },
        {
          "data": {
            "text/html": [
              "<div>\n",
              "<style scoped>\n",
              "    .dataframe tbody tr th:only-of-type {\n",
              "        vertical-align: middle;\n",
              "    }\n",
              "\n",
              "    .dataframe tbody tr th {\n",
              "        vertical-align: top;\n",
              "    }\n",
              "\n",
              "    .dataframe thead th {\n",
              "        text-align: right;\n",
              "    }\n",
              "</style>\n",
              "<table border=\"1\" class=\"dataframe\">\n",
              "  <thead>\n",
              "    <tr style=\"text-align: right;\">\n",
              "      <th></th>\n",
              "      <th>disasterno</th>\n",
              "      <th>Year</th>\n",
              "      <th>Event Name</th>\n",
              "      <th>Start Year</th>\n",
              "      <th>Start Month</th>\n",
              "      <th>Start Day</th>\n",
              "      <th>End Year</th>\n",
              "      <th>End Month</th>\n",
              "      <th>End Day</th>\n",
              "      <th>Total Damages, Adjusted ('000 US$)</th>\n",
              "      <th>...</th>\n",
              "      <th>level</th>\n",
              "      <th>adm1</th>\n",
              "      <th>adm2</th>\n",
              "      <th>adm3</th>\n",
              "      <th>location</th>\n",
              "      <th>historical</th>\n",
              "      <th>hist_country</th>\n",
              "      <th>disastertype</th>\n",
              "      <th>latitude</th>\n",
              "      <th>longitude</th>\n",
              "    </tr>\n",
              "  </thead>\n",
              "  <tbody>\n",
              "    <tr>\n",
              "      <th>0</th>\n",
              "      <td>2009-0631</td>\n",
              "      <td>2009.0</td>\n",
              "      <td>NaN</td>\n",
              "      <td>2009.0</td>\n",
              "      <td>12.0</td>\n",
              "      <td>27.0</td>\n",
              "      <td>2010.0</td>\n",
              "      <td>1.0</td>\n",
              "      <td>8.0</td>\n",
              "      <td>NaN</td>\n",
              "      <td>...</td>\n",
              "      <td>3</td>\n",
              "      <td>Shkoder</td>\n",
              "      <td>Shkodres</td>\n",
              "      <td>Ana E Malit</td>\n",
              "      <td>Ana E Malit</td>\n",
              "      <td>0</td>\n",
              "      <td>NaN</td>\n",
              "      <td>flood</td>\n",
              "      <td>42.020948</td>\n",
              "      <td>19.418317</td>\n",
              "    </tr>\n",
              "    <tr>\n",
              "      <th>2</th>\n",
              "      <td>2001-0146</td>\n",
              "      <td>2001.0</td>\n",
              "      <td>NaN</td>\n",
              "      <td>2001.0</td>\n",
              "      <td>4.0</td>\n",
              "      <td>2.0</td>\n",
              "      <td>2001.0</td>\n",
              "      <td>4.0</td>\n",
              "      <td>9.0</td>\n",
              "      <td>NaN</td>\n",
              "      <td>...</td>\n",
              "      <td>3</td>\n",
              "      <td>Cunene</td>\n",
              "      <td>Cuanhama</td>\n",
              "      <td>Onjiva</td>\n",
              "      <td>Onjiva</td>\n",
              "      <td>0</td>\n",
              "      <td>NaN</td>\n",
              "      <td>flood</td>\n",
              "      <td>-17.093484</td>\n",
              "      <td>15.665758</td>\n",
              "    </tr>\n",
              "  </tbody>\n",
              "</table>\n",
              "<p>2 rows × 27 columns</p>\n",
              "</div>"
            ],
            "text/plain": [
              "  disasterno    Year Event Name  Start Year  Start Month  Start Day  End Year  \\\n",
              "0  2009-0631  2009.0        NaN      2009.0         12.0       27.0    2010.0   \n",
              "2  2001-0146  2001.0        NaN      2001.0          4.0        2.0    2001.0   \n",
              "\n",
              "   End Month  End Day  Total Damages, Adjusted ('000 US$)  ... level     adm1  \\\n",
              "0        1.0      8.0                                 NaN  ...     3  Shkoder   \n",
              "2        4.0      9.0                                 NaN  ...     3   Cunene   \n",
              "\n",
              "       adm2         adm3     location  historical hist_country  disastertype  \\\n",
              "0  Shkodres  Ana E Malit  Ana E Malit           0          NaN         flood   \n",
              "2  Cuanhama       Onjiva       Onjiva           0          NaN         flood   \n",
              "\n",
              "    latitude  longitude  \n",
              "0  42.020948  19.418317  \n",
              "2 -17.093484  15.665758  \n",
              "\n",
              "[2 rows x 27 columns]"
            ]
          },
          "execution_count": 42,
          "metadata": {},
          "output_type": "execute_result"
        }
      ],
      "source": [
        "#print\n",
        "gdis = gdis.drop_duplicates(subset=['id'])\n",
        "print('shape', gdis.shape)\n",
        "gdis.head(2)"
      ]
    },
    {
      "cell_type": "code",
      "execution_count": 43,
      "metadata": {
        "colab": {
          "base_uri": "https://localhost:8080/"
        },
        "id": "jeO6Nh9K8_Wn",
        "outputId": "03142af6-e620-4656-af48-07dd98f326f7"
      },
      "outputs": [
        {
          "name": "stdout",
          "output_type": "stream",
          "text": [
            "total number of grid pairs 2827\n",
            "lon range -178 180\n",
            "lat range -54 68\n"
          ]
        }
      ],
      "source": [
        "#new grid_id: round to integers\n",
        "gdis['lat_grid'] = gdis['latitude'].round().astype(int)\n",
        "gdis['lon_grid'] = gdis['longitude'].round().astype(int)\n",
        "gdis['grid_id'] = list(zip(gdis['lat_grid'],gdis['lon_grid']))\n",
        "print('total number of grid pairs', len(gdis.grid_id.value_counts()))\n",
        "\n",
        "# check if they lie in range\n",
        "print('lon range', gdis['lon_grid'].min(), gdis['lon_grid'].max())\n",
        "print('lat range', gdis['lat_grid'].min(), gdis['lat_grid'].max())"
      ]
    },
    {
      "cell_type": "code",
      "execution_count": 44,
      "metadata": {
        "colab": {
          "base_uri": "https://localhost:8080/",
          "height": 194
        },
        "id": "-J-bJz6W8_Wn",
        "outputId": "5f8c3671-64d8-4944-ab8f-0b0db2da84be"
      },
      "outputs": [
        {
          "data": {
            "text/html": [
              "<div>\n",
              "<style scoped>\n",
              "    .dataframe tbody tr th:only-of-type {\n",
              "        vertical-align: middle;\n",
              "    }\n",
              "\n",
              "    .dataframe tbody tr th {\n",
              "        vertical-align: top;\n",
              "    }\n",
              "\n",
              "    .dataframe thead th {\n",
              "        text-align: right;\n",
              "    }\n",
              "</style>\n",
              "<table border=\"1\" class=\"dataframe\">\n",
              "  <thead>\n",
              "    <tr style=\"text-align: right;\">\n",
              "      <th></th>\n",
              "      <th>disasterno</th>\n",
              "      <th>Year</th>\n",
              "      <th>Event Name</th>\n",
              "      <th>Start Year</th>\n",
              "      <th>Start Month</th>\n",
              "      <th>Start Day</th>\n",
              "      <th>End Year</th>\n",
              "      <th>End Month</th>\n",
              "      <th>End Day</th>\n",
              "      <th>Total Damages, Adjusted ('000 US$)</th>\n",
              "      <th>...</th>\n",
              "      <th>adm3</th>\n",
              "      <th>location</th>\n",
              "      <th>historical</th>\n",
              "      <th>hist_country</th>\n",
              "      <th>disastertype</th>\n",
              "      <th>latitude</th>\n",
              "      <th>longitude</th>\n",
              "      <th>lat_grid</th>\n",
              "      <th>lon_grid</th>\n",
              "      <th>grid_id</th>\n",
              "    </tr>\n",
              "  </thead>\n",
              "  <tbody>\n",
              "    <tr>\n",
              "      <th>0</th>\n",
              "      <td>2009-0631</td>\n",
              "      <td>2009.0</td>\n",
              "      <td>NaN</td>\n",
              "      <td>2009.0</td>\n",
              "      <td>12.0</td>\n",
              "      <td>27.0</td>\n",
              "      <td>2010.0</td>\n",
              "      <td>1.0</td>\n",
              "      <td>8.0</td>\n",
              "      <td>NaN</td>\n",
              "      <td>...</td>\n",
              "      <td>Ana E Malit</td>\n",
              "      <td>Ana E Malit</td>\n",
              "      <td>0</td>\n",
              "      <td>NaN</td>\n",
              "      <td>flood</td>\n",
              "      <td>42.020948</td>\n",
              "      <td>19.418317</td>\n",
              "      <td>42</td>\n",
              "      <td>19</td>\n",
              "      <td>(42, 19)</td>\n",
              "    </tr>\n",
              "    <tr>\n",
              "      <th>2</th>\n",
              "      <td>2001-0146</td>\n",
              "      <td>2001.0</td>\n",
              "      <td>NaN</td>\n",
              "      <td>2001.0</td>\n",
              "      <td>4.0</td>\n",
              "      <td>2.0</td>\n",
              "      <td>2001.0</td>\n",
              "      <td>4.0</td>\n",
              "      <td>9.0</td>\n",
              "      <td>NaN</td>\n",
              "      <td>...</td>\n",
              "      <td>Onjiva</td>\n",
              "      <td>Onjiva</td>\n",
              "      <td>0</td>\n",
              "      <td>NaN</td>\n",
              "      <td>flood</td>\n",
              "      <td>-17.093484</td>\n",
              "      <td>15.665758</td>\n",
              "      <td>-17</td>\n",
              "      <td>16</td>\n",
              "      <td>(-17, 16)</td>\n",
              "    </tr>\n",
              "  </tbody>\n",
              "</table>\n",
              "<p>2 rows × 30 columns</p>\n",
              "</div>"
            ],
            "text/plain": [
              "  disasterno    Year Event Name  Start Year  Start Month  Start Day  End Year  \\\n",
              "0  2009-0631  2009.0        NaN      2009.0         12.0       27.0    2010.0   \n",
              "2  2001-0146  2001.0        NaN      2001.0          4.0        2.0    2001.0   \n",
              "\n",
              "   End Month  End Day  Total Damages, Adjusted ('000 US$)  ...         adm3  \\\n",
              "0        1.0      8.0                                 NaN  ...  Ana E Malit   \n",
              "2        4.0      9.0                                 NaN  ...       Onjiva   \n",
              "\n",
              "      location historical  hist_country  disastertype   latitude  longitude  \\\n",
              "0  Ana E Malit          0           NaN         flood  42.020948  19.418317   \n",
              "2       Onjiva          0           NaN         flood -17.093484  15.665758   \n",
              "\n",
              "   lat_grid lon_grid    grid_id  \n",
              "0        42       19   (42, 19)  \n",
              "2       -17       16  (-17, 16)  \n",
              "\n",
              "[2 rows x 30 columns]"
            ]
          },
          "execution_count": 44,
          "metadata": {},
          "output_type": "execute_result"
        }
      ],
      "source": [
        "gdis.head(2)"
      ]
    },
    {
      "cell_type": "code",
      "execution_count": 45,
      "metadata": {
        "id": "8JSb3XOe8_Wn"
      },
      "outputs": [],
      "source": [
        "# #count number of locations in each grid_id: ideally just 1 location per grid_id, if not, I can make grid finer.\n",
        "# gdis.groupby('grid_id').agg({'location':'nunique'}).sort_values(by='location').value_counts()"
      ]
    },
    {
      "cell_type": "code",
      "execution_count": 46,
      "metadata": {
        "id": "FLN-6ODT8_Wn"
      },
      "outputs": [],
      "source": [
        "# # the grid with most regions\n",
        "# gdis.loc[gdis['grid_id']==(113, 295)].head(5)"
      ]
    },
    {
      "cell_type": "markdown",
      "metadata": {
        "id": "o-FC0PAV8_Wo"
      },
      "source": [
        "### 2. Construct X"
      ]
    },
    {
      "cell_type": "code",
      "execution_count": 47,
      "metadata": {
        "id": "XfVeKWS58_Wo"
      },
      "outputs": [],
      "source": [
        "#pivot function: change rows of info into tables\n",
        "def pivot(df_in, id_col='disastertype', id_list=['Flood']):\n",
        "    #Drop and reset the index column\n",
        "    df = df_in.reset_index(drop = True)\n",
        "\n",
        "    # one set of disaster\n",
        "    for id in id_list:\n",
        "        #initialize columns\n",
        "        df[id+'_bin'] = 0\n",
        "        df[id+'_amt'] = 0\n",
        "        df[id+'_ct'] = 0\n",
        "\n",
        "\n",
        "        # so if the flood happens and we find it, we create these columns and get the flood costs\n",
        "        df.loc[(df[id_col]==id), id+'_bin'] = 1\n",
        "        df.loc[(df[id_col]==id), id+'_amt'] = df[\"Total Damages, Adjusted ('000 US$)\"].astype(float)\n",
        "        df.loc[(df[id_col]==id), id+'_ct'] = 1\n",
        "\n",
        "    return df\n"
      ]
    },
    {
      "cell_type": "code",
      "execution_count": 48,
      "metadata": {
        "colab": {
          "base_uri": "https://localhost:8080/",
          "height": 548
        },
        "id": "CNDIB1I98_Wo",
        "outputId": "e159ce43-c66e-49fd-9630-78d239255a38"
      },
      "outputs": [
        {
          "name": "stdout",
          "output_type": "stream",
          "text": [
            "['flood', 'storm', 'earthquake', 'extreme temperature ', 'landslide', 'volcanic activity', 'drought', 'mass movement (dry)']\n"
          ]
        },
        {
          "data": {
            "text/html": [
              "<div>\n",
              "<style scoped>\n",
              "    .dataframe tbody tr th:only-of-type {\n",
              "        vertical-align: middle;\n",
              "    }\n",
              "\n",
              "    .dataframe tbody tr th {\n",
              "        vertical-align: top;\n",
              "    }\n",
              "\n",
              "    .dataframe thead th {\n",
              "        text-align: right;\n",
              "    }\n",
              "</style>\n",
              "<table border=\"1\" class=\"dataframe\">\n",
              "  <thead>\n",
              "    <tr style=\"text-align: right;\">\n",
              "      <th></th>\n",
              "      <th>disasterno</th>\n",
              "      <th>Year</th>\n",
              "      <th>Event Name</th>\n",
              "      <th>Start Year</th>\n",
              "      <th>Start Month</th>\n",
              "      <th>Start Day</th>\n",
              "      <th>End Year</th>\n",
              "      <th>End Month</th>\n",
              "      <th>End Day</th>\n",
              "      <th>Total Damages, Adjusted ('000 US$)</th>\n",
              "      <th>...</th>\n",
              "      <th>landslide_ct</th>\n",
              "      <th>volcanic activity_bin</th>\n",
              "      <th>volcanic activity_amt</th>\n",
              "      <th>volcanic activity_ct</th>\n",
              "      <th>drought_bin</th>\n",
              "      <th>drought_amt</th>\n",
              "      <th>drought_ct</th>\n",
              "      <th>mass movement (dry)_bin</th>\n",
              "      <th>mass movement (dry)_amt</th>\n",
              "      <th>mass movement (dry)_ct</th>\n",
              "    </tr>\n",
              "  </thead>\n",
              "  <tbody>\n",
              "    <tr>\n",
              "      <th>0</th>\n",
              "      <td>2009-0631</td>\n",
              "      <td>2009.0</td>\n",
              "      <td>NaN</td>\n",
              "      <td>2009.0</td>\n",
              "      <td>12.0</td>\n",
              "      <td>27.0</td>\n",
              "      <td>2010.0</td>\n",
              "      <td>1.0</td>\n",
              "      <td>8.0</td>\n",
              "      <td>NaN</td>\n",
              "      <td>...</td>\n",
              "      <td>0</td>\n",
              "      <td>0</td>\n",
              "      <td>0.0</td>\n",
              "      <td>0</td>\n",
              "      <td>0</td>\n",
              "      <td>0.0</td>\n",
              "      <td>0</td>\n",
              "      <td>0</td>\n",
              "      <td>0.0</td>\n",
              "      <td>0</td>\n",
              "    </tr>\n",
              "    <tr>\n",
              "      <th>1</th>\n",
              "      <td>2001-0146</td>\n",
              "      <td>2001.0</td>\n",
              "      <td>NaN</td>\n",
              "      <td>2001.0</td>\n",
              "      <td>4.0</td>\n",
              "      <td>2.0</td>\n",
              "      <td>2001.0</td>\n",
              "      <td>4.0</td>\n",
              "      <td>9.0</td>\n",
              "      <td>NaN</td>\n",
              "      <td>...</td>\n",
              "      <td>0</td>\n",
              "      <td>0</td>\n",
              "      <td>0.0</td>\n",
              "      <td>0</td>\n",
              "      <td>0</td>\n",
              "      <td>0.0</td>\n",
              "      <td>0</td>\n",
              "      <td>0</td>\n",
              "      <td>0.0</td>\n",
              "      <td>0</td>\n",
              "    </tr>\n",
              "    <tr>\n",
              "      <th>2</th>\n",
              "      <td>2009-0092</td>\n",
              "      <td>2009.0</td>\n",
              "      <td>NaN</td>\n",
              "      <td>2009.0</td>\n",
              "      <td>3.0</td>\n",
              "      <td>1.0</td>\n",
              "      <td>2009.0</td>\n",
              "      <td>4.0</td>\n",
              "      <td>16.0</td>\n",
              "      <td>NaN</td>\n",
              "      <td>...</td>\n",
              "      <td>0</td>\n",
              "      <td>0</td>\n",
              "      <td>0.0</td>\n",
              "      <td>0</td>\n",
              "      <td>0</td>\n",
              "      <td>0.0</td>\n",
              "      <td>0</td>\n",
              "      <td>0</td>\n",
              "      <td>0.0</td>\n",
              "      <td>0</td>\n",
              "    </tr>\n",
              "    <tr>\n",
              "      <th>3</th>\n",
              "      <td>2010-0105</td>\n",
              "      <td>2010.0</td>\n",
              "      <td>NaN</td>\n",
              "      <td>2010.0</td>\n",
              "      <td>3.0</td>\n",
              "      <td>1.0</td>\n",
              "      <td>2010.0</td>\n",
              "      <td>3.0</td>\n",
              "      <td>17.0</td>\n",
              "      <td>NaN</td>\n",
              "      <td>...</td>\n",
              "      <td>0</td>\n",
              "      <td>0</td>\n",
              "      <td>0.0</td>\n",
              "      <td>0</td>\n",
              "      <td>0</td>\n",
              "      <td>0.0</td>\n",
              "      <td>0</td>\n",
              "      <td>0</td>\n",
              "      <td>0.0</td>\n",
              "      <td>0</td>\n",
              "    </tr>\n",
              "    <tr>\n",
              "      <th>4</th>\n",
              "      <td>1995-0082</td>\n",
              "      <td>1995.0</td>\n",
              "      <td>NaN</td>\n",
              "      <td>1995.0</td>\n",
              "      <td>5.0</td>\n",
              "      <td>15.0</td>\n",
              "      <td>1995.0</td>\n",
              "      <td>5.0</td>\n",
              "      <td>15.0</td>\n",
              "      <td>1422569.0</td>\n",
              "      <td>...</td>\n",
              "      <td>0</td>\n",
              "      <td>0</td>\n",
              "      <td>0.0</td>\n",
              "      <td>0</td>\n",
              "      <td>0</td>\n",
              "      <td>0.0</td>\n",
              "      <td>0</td>\n",
              "      <td>0</td>\n",
              "      <td>0.0</td>\n",
              "      <td>0</td>\n",
              "    </tr>\n",
              "    <tr>\n",
              "      <th>...</th>\n",
              "      <td>...</td>\n",
              "      <td>...</td>\n",
              "      <td>...</td>\n",
              "      <td>...</td>\n",
              "      <td>...</td>\n",
              "      <td>...</td>\n",
              "      <td>...</td>\n",
              "      <td>...</td>\n",
              "      <td>...</td>\n",
              "      <td>...</td>\n",
              "      <td>...</td>\n",
              "      <td>...</td>\n",
              "      <td>...</td>\n",
              "      <td>...</td>\n",
              "      <td>...</td>\n",
              "      <td>...</td>\n",
              "      <td>...</td>\n",
              "      <td>...</td>\n",
              "      <td>...</td>\n",
              "      <td>...</td>\n",
              "      <td>...</td>\n",
              "    </tr>\n",
              "    <tr>\n",
              "      <th>9919</th>\n",
              "      <td>1960-0011</td>\n",
              "      <td>1960.0</td>\n",
              "      <td>Manam</td>\n",
              "      <td>1960.0</td>\n",
              "      <td>3.0</td>\n",
              "      <td>17.0</td>\n",
              "      <td>1960.0</td>\n",
              "      <td>3.0</td>\n",
              "      <td>17.0</td>\n",
              "      <td>NaN</td>\n",
              "      <td>...</td>\n",
              "      <td>0</td>\n",
              "      <td>1</td>\n",
              "      <td>NaN</td>\n",
              "      <td>1</td>\n",
              "      <td>0</td>\n",
              "      <td>0.0</td>\n",
              "      <td>0</td>\n",
              "      <td>0</td>\n",
              "      <td>0.0</td>\n",
              "      <td>0</td>\n",
              "    </tr>\n",
              "    <tr>\n",
              "      <th>9920</th>\n",
              "      <td>2009-9633</td>\n",
              "      <td>2009.0</td>\n",
              "      <td>NaN</td>\n",
              "      <td>2009.0</td>\n",
              "      <td>NaN</td>\n",
              "      <td>NaN</td>\n",
              "      <td>2010.0</td>\n",
              "      <td>NaN</td>\n",
              "      <td>NaN</td>\n",
              "      <td>NaN</td>\n",
              "      <td>...</td>\n",
              "      <td>0</td>\n",
              "      <td>0</td>\n",
              "      <td>0.0</td>\n",
              "      <td>0</td>\n",
              "      <td>1</td>\n",
              "      <td>NaN</td>\n",
              "      <td>1</td>\n",
              "      <td>0</td>\n",
              "      <td>0.0</td>\n",
              "      <td>0</td>\n",
              "    </tr>\n",
              "    <tr>\n",
              "      <th>9921</th>\n",
              "      <td>1990-9289</td>\n",
              "      <td>1990.0</td>\n",
              "      <td>NaN</td>\n",
              "      <td>1990.0</td>\n",
              "      <td>NaN</td>\n",
              "      <td>NaN</td>\n",
              "      <td>1990.0</td>\n",
              "      <td>NaN</td>\n",
              "      <td>NaN</td>\n",
              "      <td>NaN</td>\n",
              "      <td>...</td>\n",
              "      <td>0</td>\n",
              "      <td>0</td>\n",
              "      <td>0.0</td>\n",
              "      <td>0</td>\n",
              "      <td>1</td>\n",
              "      <td>NaN</td>\n",
              "      <td>1</td>\n",
              "      <td>0</td>\n",
              "      <td>0.0</td>\n",
              "      <td>0</td>\n",
              "    </tr>\n",
              "    <tr>\n",
              "      <th>9922</th>\n",
              "      <td>1969-9069</td>\n",
              "      <td>1969.0</td>\n",
              "      <td>NaN</td>\n",
              "      <td>1969.0</td>\n",
              "      <td>NaN</td>\n",
              "      <td>NaN</td>\n",
              "      <td>1971.0</td>\n",
              "      <td>NaN</td>\n",
              "      <td>NaN</td>\n",
              "      <td>73867.0</td>\n",
              "      <td>...</td>\n",
              "      <td>0</td>\n",
              "      <td>0</td>\n",
              "      <td>0.0</td>\n",
              "      <td>0</td>\n",
              "      <td>1</td>\n",
              "      <td>73867.0</td>\n",
              "      <td>1</td>\n",
              "      <td>0</td>\n",
              "      <td>0.0</td>\n",
              "      <td>0</td>\n",
              "    </tr>\n",
              "    <tr>\n",
              "      <th>9923</th>\n",
              "      <td>2015-0375</td>\n",
              "      <td>2015.0</td>\n",
              "      <td>Hurricane Erika</td>\n",
              "      <td>2015.0</td>\n",
              "      <td>8.0</td>\n",
              "      <td>27.0</td>\n",
              "      <td>2015.0</td>\n",
              "      <td>8.0</td>\n",
              "      <td>27.0</td>\n",
              "      <td>551973.0</td>\n",
              "      <td>...</td>\n",
              "      <td>0</td>\n",
              "      <td>0</td>\n",
              "      <td>0.0</td>\n",
              "      <td>0</td>\n",
              "      <td>0</td>\n",
              "      <td>0.0</td>\n",
              "      <td>0</td>\n",
              "      <td>0</td>\n",
              "      <td>0.0</td>\n",
              "      <td>0</td>\n",
              "    </tr>\n",
              "  </tbody>\n",
              "</table>\n",
              "<p>9924 rows × 54 columns</p>\n",
              "</div>"
            ],
            "text/plain": [
              "     disasterno    Year       Event Name  Start Year  Start Month  Start Day  \\\n",
              "0     2009-0631  2009.0              NaN      2009.0         12.0       27.0   \n",
              "1     2001-0146  2001.0              NaN      2001.0          4.0        2.0   \n",
              "2     2009-0092  2009.0              NaN      2009.0          3.0        1.0   \n",
              "3     2010-0105  2010.0              NaN      2010.0          3.0        1.0   \n",
              "4     1995-0082  1995.0              NaN      1995.0          5.0       15.0   \n",
              "...         ...     ...              ...         ...          ...        ...   \n",
              "9919  1960-0011  1960.0            Manam      1960.0          3.0       17.0   \n",
              "9920  2009-9633  2009.0              NaN      2009.0          NaN        NaN   \n",
              "9921  1990-9289  1990.0              NaN      1990.0          NaN        NaN   \n",
              "9922  1969-9069  1969.0              NaN      1969.0          NaN        NaN   \n",
              "9923  2015-0375  2015.0  Hurricane Erika      2015.0          8.0       27.0   \n",
              "\n",
              "      End Year  End Month  End Day  Total Damages, Adjusted ('000 US$)  ...  \\\n",
              "0       2010.0        1.0      8.0                                 NaN  ...   \n",
              "1       2001.0        4.0      9.0                                 NaN  ...   \n",
              "2       2009.0        4.0     16.0                                 NaN  ...   \n",
              "3       2010.0        3.0     17.0                                 NaN  ...   \n",
              "4       1995.0        5.0     15.0                           1422569.0  ...   \n",
              "...        ...        ...      ...                                 ...  ...   \n",
              "9919    1960.0        3.0     17.0                                 NaN  ...   \n",
              "9920    2010.0        NaN      NaN                                 NaN  ...   \n",
              "9921    1990.0        NaN      NaN                                 NaN  ...   \n",
              "9922    1971.0        NaN      NaN                             73867.0  ...   \n",
              "9923    2015.0        8.0     27.0                            551973.0  ...   \n",
              "\n",
              "     landslide_ct volcanic activity_bin volcanic activity_amt  \\\n",
              "0               0                     0                   0.0   \n",
              "1               0                     0                   0.0   \n",
              "2               0                     0                   0.0   \n",
              "3               0                     0                   0.0   \n",
              "4               0                     0                   0.0   \n",
              "...           ...                   ...                   ...   \n",
              "9919            0                     1                   NaN   \n",
              "9920            0                     0                   0.0   \n",
              "9921            0                     0                   0.0   \n",
              "9922            0                     0                   0.0   \n",
              "9923            0                     0                   0.0   \n",
              "\n",
              "      volcanic activity_ct  drought_bin  drought_amt drought_ct  \\\n",
              "0                        0            0          0.0          0   \n",
              "1                        0            0          0.0          0   \n",
              "2                        0            0          0.0          0   \n",
              "3                        0            0          0.0          0   \n",
              "4                        0            0          0.0          0   \n",
              "...                    ...          ...          ...        ...   \n",
              "9919                     1            0          0.0          0   \n",
              "9920                     0            1          NaN          1   \n",
              "9921                     0            1          NaN          1   \n",
              "9922                     0            1      73867.0          1   \n",
              "9923                     0            0          0.0          0   \n",
              "\n",
              "      mass movement (dry)_bin mass movement (dry)_amt mass movement (dry)_ct  \n",
              "0                           0                     0.0                      0  \n",
              "1                           0                     0.0                      0  \n",
              "2                           0                     0.0                      0  \n",
              "3                           0                     0.0                      0  \n",
              "4                           0                     0.0                      0  \n",
              "...                       ...                     ...                    ...  \n",
              "9919                        0                     0.0                      0  \n",
              "9920                        0                     0.0                      0  \n",
              "9921                        0                     0.0                      0  \n",
              "9922                        0                     0.0                      0  \n",
              "9923                        0                     0.0                      0  \n",
              "\n",
              "[9924 rows x 54 columns]"
            ]
          },
          "execution_count": 48,
          "metadata": {},
          "output_type": "execute_result"
        }
      ],
      "source": [
        "# id_list= df_sub['Disaster Type'].unique()\n",
        "id_list= gdis['disastertype'].unique().tolist()\n",
        "print(id_list)\n",
        "df_pivot= pivot(gdis, id_col = 'disastertype', id_list = id_list)\n",
        "df_pivot\n"
      ]
    },
    {
      "cell_type": "code",
      "execution_count": 49,
      "metadata": {
        "colab": {
          "base_uri": "https://localhost:8080/"
        },
        "id": "myfVaJ7b8_Wo",
        "outputId": "4f2204d2-0597-45d5-dec9-155c08b1f811"
      },
      "outputs": [
        {
          "data": {
            "text/plain": [
              "Index(['disasterno', 'Year', 'Event Name', 'Start Year', 'Start Month',\n",
              "       'Start Day', 'End Year', 'End Month', 'End Day',\n",
              "       'Total Damages, Adjusted ('000 US$)', 'id', 'country', 'iso3', 'gwno',\n",
              "       'year', 'geo_id', 'geolocation', 'level', 'adm1', 'adm2', 'adm3',\n",
              "       'location', 'historical', 'hist_country', 'disastertype', 'latitude',\n",
              "       'longitude', 'lat_grid', 'lon_grid', 'grid_id', 'flood_bin',\n",
              "       'flood_amt', 'flood_ct', 'storm_bin', 'storm_amt', 'storm_ct',\n",
              "       'earthquake_bin', 'earthquake_amt', 'earthquake_ct',\n",
              "       'extreme temperature _bin', 'extreme temperature _amt',\n",
              "       'extreme temperature _ct', 'landslide_bin', 'landslide_amt',\n",
              "       'landslide_ct', 'volcanic activity_bin', 'volcanic activity_amt',\n",
              "       'volcanic activity_ct', 'drought_bin', 'drought_amt', 'drought_ct',\n",
              "       'mass movement (dry)_bin', 'mass movement (dry)_amt',\n",
              "       'mass movement (dry)_ct'],\n",
              "      dtype='object')"
            ]
          },
          "execution_count": 49,
          "metadata": {},
          "output_type": "execute_result"
        }
      ],
      "source": [
        "df_pivot.columns"
      ]
    },
    {
      "cell_type": "code",
      "execution_count": 50,
      "metadata": {
        "id": "pEugetrQ8_Wo"
      },
      "outputs": [],
      "source": [
        "#aggregate columns by year\n",
        "# We need to include the longitude and lattitude here\n",
        "def aggregate_yrly(df):\n",
        "    #aggregate count\n",
        "    col_ct = [col for col in df.columns if '_ct' in col]\n",
        "    df_ct = df.groupby(['grid_id','year'])[col_ct].agg('sum')\n",
        "\n",
        "    #aggregate amount\n",
        "    col_amt = [col for col in df.columns if '_amt' in col]\n",
        "    df_amt = df.groupby(['grid_id','year'])[col_amt].agg('sum')\n",
        "\n",
        "    #aggregate binary\n",
        "    col_bin = [col for col in df.columns if '_bin' in col]\n",
        "    df_bin= df.groupby(['grid_id','year'])[col_bin].agg('max')\n",
        "\n",
        "    #join\n",
        "    df1= pd.concat([df_amt, df_ct], axis=1)\n",
        "    df_out = pd.concat([df1, df_bin], axis=1)\n",
        "\n",
        "    return df_out.reset_index()\n",
        "\n",
        "\n",
        "\n",
        "df_yrly = aggregate_yrly(df_pivot)\n",
        "# df_yrly.to_csv('data/df_yrly.csv')"
      ]
    },
    {
      "cell_type": "code",
      "execution_count": 51,
      "metadata": {
        "colab": {
          "base_uri": "https://localhost:8080/"
        },
        "id": "9ZzGzBnm8_Wo",
        "outputId": "420aadbe-e851-4581-c102-72996a19b6be"
      },
      "outputs": [
        {
          "data": {
            "text/plain": [
              "Index(['grid_id', 'year', 'flood_amt', 'storm_amt', 'earthquake_amt',\n",
              "       'extreme temperature _amt', 'landslide_amt', 'volcanic activity_amt',\n",
              "       'drought_amt', 'mass movement (dry)_amt', 'flood_ct', 'storm_ct',\n",
              "       'earthquake_ct', 'extreme temperature _ct', 'landslide_ct',\n",
              "       'volcanic activity_ct', 'drought_ct', 'mass movement (dry)_ct',\n",
              "       'flood_bin', 'storm_bin', 'earthquake_bin', 'extreme temperature _bin',\n",
              "       'landslide_bin', 'volcanic activity_bin', 'drought_bin',\n",
              "       'mass movement (dry)_bin'],\n",
              "      dtype='object')"
            ]
          },
          "execution_count": 51,
          "metadata": {},
          "output_type": "execute_result"
        }
      ],
      "source": [
        "df_yrly.columns"
      ]
    },
    {
      "cell_type": "code",
      "execution_count": 52,
      "metadata": {
        "colab": {
          "base_uri": "https://localhost:8080/"
        },
        "id": "6R6mW6kO8_Wo",
        "outputId": "15db465e-39df-43ea-b0f0-ca46ca70838f"
      },
      "outputs": [
        {
          "name": "stdout",
          "output_type": "stream",
          "text": [
            "8691\n"
          ]
        }
      ],
      "source": [
        "print(len(df_yrly))"
      ]
    },
    {
      "cell_type": "code",
      "execution_count": 53,
      "metadata": {
        "id": "8dE4UlzZ8_Wo"
      },
      "outputs": [],
      "source": [
        "# # We want to remove years that are before 1979 as we don't have data for those in google earths\n",
        "# df_yrly = df_yrly.loc[df_yrly['year']>=1979].reset_index(drop=True)\n",
        "# print(len(df_yrly))"
      ]
    },
    {
      "cell_type": "code",
      "execution_count": 54,
      "metadata": {
        "colab": {
          "base_uri": "https://localhost:8080/"
        },
        "id": "zj7oY8CQ8_Wo",
        "outputId": "a3d2dea8-2497-4de7-9f84-7d6efd7afaf5"
      },
      "outputs": [
        {
          "data": {
            "text/plain": [
              "1960"
            ]
          },
          "execution_count": 54,
          "metadata": {},
          "output_type": "execute_result"
        }
      ],
      "source": [
        "df_yrly.year.min()"
      ]
    },
    {
      "cell_type": "markdown",
      "metadata": {
        "id": "LJ_Gwv9f8_Wo"
      },
      "source": [
        "### Construct Y Master\n",
        "look up table for all the previous flood events"
      ]
    },
    {
      "cell_type": "code",
      "execution_count": 55,
      "metadata": {
        "id": "wRA0iBXM8_Wo"
      },
      "outputs": [],
      "source": [
        "bin_col =  [col for col in df_yrly.columns if '_bin' in col]\n",
        "df_yrly_bin = df_yrly[['grid_id','year'] + bin_col]\n"
      ]
    },
    {
      "cell_type": "code",
      "execution_count": 56,
      "metadata": {
        "id": "z5XPfMrc8_Wo"
      },
      "outputs": [],
      "source": [
        "# #get a list of disasters and flood_id\n",
        "# all_dis = gdis[['grid_id','Year','disastertype']]\n",
        "\n",
        "# #\n",
        "# flood = all_dis.loc[all_dis['disastertype']=='flood']\n",
        "# flood"
      ]
    },
    {
      "cell_type": "code",
      "execution_count": 57,
      "metadata": {
        "colab": {
          "base_uri": "https://localhost:8080/"
        },
        "id": "qv5h25we8_Wp",
        "outputId": "e84cc75f-c37e-444c-894f-b23bb3684e78"
      },
      "outputs": [
        {
          "name": "stdout",
          "output_type": "stream",
          "text": [
            "1960.0 2018.0\n",
            "166793\n"
          ]
        }
      ],
      "source": [
        "# get a list of grid_ids\n",
        "grid_id = gdis['grid_id'].unique()\n",
        "# get a list of year information\n",
        "print(gdis.Year.min(), gdis.Year.max())\n",
        "year_id = np.arange(1960, 2019, 1)\n",
        "#create multi-index: each grid id, spanning over the years\n",
        "idd = pd.MultiIndex.from_product([grid_id, year_id],\n",
        "                           names=['grid_id', 'year'])\n",
        "\n",
        "#length should be |years| * |grid_ids|\n",
        "print(len(idd))\n",
        "#get dataframe\n",
        "idd = idd.to_frame().reset_index(drop=True)\n"
      ]
    },
    {
      "cell_type": "code",
      "execution_count": 58,
      "metadata": {
        "id": "P7In55FQ8_Wp"
      },
      "outputs": [],
      "source": [
        "#master disaster targets for all years and all ids:\n",
        "#merge with df_yrly\n",
        "y_master = pd.merge(idd, df_yrly_bin, on=['grid_id','year'], how='left').fillna(0)\n",
        "\n",
        "#keep just the binary\n",
        "# y_master.sum(axis=0)"
      ]
    },
    {
      "cell_type": "code",
      "execution_count": 59,
      "metadata": {
        "colab": {
          "base_uri": "https://localhost:8080/"
        },
        "id": "Ul-jloCN8_Wp",
        "outputId": "48985e80-c394-49b6-9029-739755f89138"
      },
      "outputs": [
        {
          "name": "stdout",
          "output_type": "stream",
          "text": [
            "4015.0\n",
            "4274\n"
          ]
        }
      ],
      "source": [
        "#check:\n",
        "print(y_master['flood_bin'].sum()) #total number of binary flood targets\n",
        "\n",
        "#total number of flood incidents:\n",
        "print(gdis.loc[gdis['disastertype']=='flood'].shape[0])\n",
        "\n",
        "#the two numbers are slightly different, but that's because some country have more than 1 flood per year\n",
        "\n"
      ]
    },
    {
      "cell_type": "code",
      "execution_count": 60,
      "metadata": {
        "colab": {
          "base_uri": "https://localhost:8080/",
          "height": 112
        },
        "id": "F53OF-zn8_Wp",
        "outputId": "1822772a-25f4-4ebe-c088-33a339f1355f"
      },
      "outputs": [
        {
          "data": {
            "text/html": [
              "<div>\n",
              "<style scoped>\n",
              "    .dataframe tbody tr th:only-of-type {\n",
              "        vertical-align: middle;\n",
              "    }\n",
              "\n",
              "    .dataframe tbody tr th {\n",
              "        vertical-align: top;\n",
              "    }\n",
              "\n",
              "    .dataframe thead th {\n",
              "        text-align: right;\n",
              "    }\n",
              "</style>\n",
              "<table border=\"1\" class=\"dataframe\">\n",
              "  <thead>\n",
              "    <tr style=\"text-align: right;\">\n",
              "      <th></th>\n",
              "      <th>grid_id</th>\n",
              "      <th>year</th>\n",
              "      <th>flood_bin</th>\n",
              "      <th>storm_bin</th>\n",
              "      <th>earthquake_bin</th>\n",
              "      <th>extreme temperature _bin</th>\n",
              "      <th>landslide_bin</th>\n",
              "      <th>volcanic activity_bin</th>\n",
              "      <th>drought_bin</th>\n",
              "      <th>mass movement (dry)_bin</th>\n",
              "    </tr>\n",
              "  </thead>\n",
              "  <tbody>\n",
              "    <tr>\n",
              "      <th>0</th>\n",
              "      <td>(42, 19)</td>\n",
              "      <td>1960</td>\n",
              "      <td>0.0</td>\n",
              "      <td>0.0</td>\n",
              "      <td>0.0</td>\n",
              "      <td>0.0</td>\n",
              "      <td>0.0</td>\n",
              "      <td>0.0</td>\n",
              "      <td>0.0</td>\n",
              "      <td>0.0</td>\n",
              "    </tr>\n",
              "    <tr>\n",
              "      <th>1</th>\n",
              "      <td>(42, 19)</td>\n",
              "      <td>1961</td>\n",
              "      <td>0.0</td>\n",
              "      <td>0.0</td>\n",
              "      <td>0.0</td>\n",
              "      <td>0.0</td>\n",
              "      <td>0.0</td>\n",
              "      <td>0.0</td>\n",
              "      <td>0.0</td>\n",
              "      <td>0.0</td>\n",
              "    </tr>\n",
              "  </tbody>\n",
              "</table>\n",
              "</div>"
            ],
            "text/plain": [
              "    grid_id  year  flood_bin  storm_bin  earthquake_bin  \\\n",
              "0  (42, 19)  1960        0.0        0.0             0.0   \n",
              "1  (42, 19)  1961        0.0        0.0             0.0   \n",
              "\n",
              "   extreme temperature _bin  landslide_bin  volcanic activity_bin  \\\n",
              "0                       0.0            0.0                    0.0   \n",
              "1                       0.0            0.0                    0.0   \n",
              "\n",
              "   drought_bin  mass movement (dry)_bin  \n",
              "0          0.0                      0.0  \n",
              "1          0.0                      0.0  "
            ]
          },
          "execution_count": 60,
          "metadata": {},
          "output_type": "execute_result"
        }
      ],
      "source": [
        "# construct next n year target -> look up this table\n",
        "y_master.head(2)\n"
      ]
    },
    {
      "cell_type": "markdown",
      "metadata": {
        "id": "w2-rCzlW8_Wp"
      },
      "source": [
        "### Filter data to previously flooded regions\n"
      ]
    },
    {
      "cell_type": "code",
      "execution_count": 61,
      "metadata": {
        "colab": {
          "base_uri": "https://localhost:8080/"
        },
        "id": "fkgn2mgF8_Wp",
        "outputId": "c3cfc3c8-df10-4c06-894b-180c8f22e238"
      },
      "outputs": [
        {
          "name": "stdout",
          "output_type": "stream",
          "text": [
            "no of grid_ids selected 830\n",
            "len of idd 48970\n"
          ]
        }
      ],
      "source": [
        "#step 1: filter xy_df to those grid_ids with previous frequent flooding history\n",
        "agg = df_yrly.groupby('grid_id').agg({'flood_bin':'sum'})\n",
        "grid_id_ls = agg.loc[agg['flood_bin']>=2].index.tolist()\n",
        "print('no of grid_ids selected', len(grid_id_ls))\n",
        "\n",
        "\n",
        "#step 2: interpolate years to record all years, fill with 0 without any flood using idd\n",
        "#create multi-index: each grid id, spanning over the years\n",
        "year_id = np.arange(1960, 2019, 1)\n",
        "idd = pd.MultiIndex.from_product([grid_id_ls, year_id],\n",
        "                           names=['grid_id', 'year'])\n",
        "\n",
        "#length should be |years| * |grid_ids|\n",
        "print('len of idd', len(idd))\n",
        "#get dataframe\n",
        "idd = idd.to_frame().reset_index(drop=True)\n"
      ]
    },
    {
      "cell_type": "code",
      "execution_count": 62,
      "metadata": {
        "id": "GXpwQV2yzsBZ"
      },
      "outputs": [],
      "source": [
        "def attach_target(x_df, y_master, disaster, next_n):\n",
        "    \"\"\"\n",
        "    Attach a 'target' column to x_df based on disaster data in y_master.\n",
        "    If no data exists in y_master for a given grid_id and year, set the target to NaN.\n",
        "\n",
        "    Parameters:\n",
        "    x_df (pd.DataFrame): DataFrame containing grid_id and year.\n",
        "    y_master (pd.DataFrame): DataFrame containing grid_id, year, and disaster information.\n",
        "    disaster (str): Column name in y_master indicating disaster occurrence (1 for disaster, 0 otherwise).\n",
        "    next_n (int): Number of years to look ahead for disasters.\n",
        "\n",
        "    Returns:\n",
        "    pd.DataFrame: Updated x_df with a 'target' column.\n",
        "    \"\"\"\n",
        "    # Create a dictionary for fast lookup: {(grid_id, year): disaster_value}\n",
        "    disaster_lookup = {\n",
        "        (row['grid_id'], row['year']): row[disaster+'_bin']\n",
        "        for _, row in y_master.iterrows()\n",
        "    }\n",
        "\n",
        "    # Initialize a 'target' column in x_df\n",
        "    target_col = 'target_' + disaster + '_' + str(next_n)\n",
        "    x_df[target_col] = np.nan  # Default to NaN\n",
        "\n",
        "    # Iterate over x_df rows\n",
        "    for idx, row in x_df.iterrows():\n",
        "        grid_id = row['grid_id']\n",
        "        year = row['year']\n",
        "\n",
        "        # Check if (grid_id, year + next_n + 1) exists in y_master\n",
        "        if (grid_id, year + next_n ) not in disaster_lookup:\n",
        "            # No data found for (grid_id, year + next_n + 1), skip this row\n",
        "            continue\n",
        "\n",
        "        # Check years from year+1 to year+next_n\n",
        "        target_found = 0\n",
        "        for i in range(1, next_n + 1):\n",
        "            future_year = year + i\n",
        "            if disaster_lookup.get((grid_id, future_year), 0) == 1:\n",
        "                target_found = 1\n",
        "                break\n",
        "\n",
        "        # Update the 'target' column\n",
        "        x_df.at[idx, target_col] = target_found\n",
        "    # Drop rows where 'target' is NaN\n",
        "    x_df = x_df.dropna(subset=[target_col])\n",
        "\n",
        "    return x_df"
      ]
    },
    {
      "cell_type": "code",
      "execution_count": 63,
      "metadata": {
        "colab": {
          "base_uri": "https://localhost:8080/"
        },
        "id": "TBhouFcRB5wE",
        "outputId": "97bb50a1-1aff-4c6a-b842-da156c1014de"
      },
      "outputs": [
        {
          "name": "stdout",
          "output_type": "stream",
          "text": [
            "length of x_df 48970\n"
          ]
        }
      ],
      "source": [
        "#construct x_stat\n",
        "\n",
        "#select to those id pass the filtering criteria\n",
        "x_df = df_yrly.loc[df_yrly['grid_id'].isin(grid_id_ls)]\n",
        "#interpolate missing years to have no flood\n",
        "x_df = pd.merge(idd, x_df, on=['grid_id','year'], how='left').fillna(0)\n",
        "#add back lat and long info\n",
        "x_df[['lat', 'lon']] = pd.DataFrame(x_df['grid_id'].tolist(), index=x_df.index)\n",
        "print('length of x_df', len(x_df))\n",
        "\n",
        "# Rename all columns except 'grid_id' and 'year'\n",
        "x_df = x_df.rename(columns={col: f'stat_{col}' for col in x_df.columns if col not in ['grid_id', 'year']})\n",
        "\n",
        "# # Save DataFrame to a CSV file\n",
        "# x_df.to_csv('data/xy_df/x_stat.csv', index=False)  # Set index=False to avoid saving the index as a column\n",
        "# y_master.to_csv('data/xy_df/y_master.csv', index=False)\n",
        "# print(\"X_Stat, y_master saved to 'dataframe.csv'.\")"
      ]
    },
    {
      "cell_type": "code",
      "execution_count": 64,
      "metadata": {},
      "outputs": [],
      "source": [
        "x_df.to_csv('data/testing/x_stat.csv')"
      ]
    },
    {
      "cell_type": "code",
      "execution_count": 65,
      "metadata": {},
      "outputs": [],
      "source": [
        "def attach_nlp(xy_df, df_nlp):\n",
        "    #correct formatting for df_nlp\n",
        "    df_nlp = string_to_tuple(df_nlp, 'grid_id')\n",
        "    #drop text, location and label columns\n",
        "    df_nlp = df_nlp.drop(['location','txt','label','flood_ct'], axis=1)\n",
        "    #add prefix\n",
        "    df_nlp = df_nlp.rename(columns={c: 'nlp_' + str(c) for c in df_nlp.columns if c not in ['grid_id']})\n",
        "    #merge\n",
        "    xy_df_out = pd.merge(xy_df, df_nlp , on='grid_id', how='left')\n",
        "    print('shape of xy_df with nlp features', xy_df_out.shape)\n",
        "    return xy_df_out\n",
        "\n",
        "#format function for above\n",
        "def string_to_tuple(df, col):\n",
        "    try:\n",
        "        df[col] = df.apply(lambda row: eval(row[col]), axis=1)\n",
        "    except:\n",
        "        'error converting to tuple'\n",
        "    return df"
      ]
    },
    {
      "cell_type": "code",
      "execution_count": 66,
      "metadata": {},
      "outputs": [
        {
          "name": "stdout",
          "output_type": "stream",
          "text": [
            "shape of xy_df with nlp features (48970, 61)\n"
          ]
        }
      ],
      "source": [
        "# construct x_nlp\n",
        "df_nlp = pd.read_pickle('data/nlp/nlp_cls_transfer_new.pkl')\n",
        "x_nlp = attach_nlp(x_df, df_nlp)"
      ]
    },
    {
      "cell_type": "code",
      "execution_count": 67,
      "metadata": {},
      "outputs": [],
      "source": [
        "x_nlp.to_csv('data/testing/x_nlp.csv')"
      ]
    },
    {
      "cell_type": "code",
      "execution_count": 68,
      "metadata": {},
      "outputs": [],
      "source": [
        "def attach_era(xy_df, df_era):\n",
        "    #correct formatting for df_era\n",
        "    df_era = string_to_tuple(df_era, 'grid_id')\n",
        "    #drop text, location and label columns\n",
        "    #add prefix\n",
        "    # df_era = df_era.rename(columns={c: 'era_' + str(c) for c in df_era.columns if c not in ['grid_id', 'year']})\n",
        "    #merge\n",
        "    xy_df_out = pd.merge(xy_df, df_era , on=['grid_id', 'year'])\n",
        "    print('shape of xy_df with era features', xy_df_out.shape)\n",
        "    return xy_df_out"
      ]
    },
    {
      "cell_type": "code",
      "execution_count": 69,
      "metadata": {},
      "outputs": [
        {
          "name": "stdout",
          "output_type": "stream",
          "text": [
            "shape of xy_df with era features (48970, 508)\n"
          ]
        }
      ],
      "source": [
        "x_era = pd.read_csv('data/era5_storage/xy_df_storage1.csv')\n",
        "x_era = attach_era(x_df, x_era)"
      ]
    },
    {
      "cell_type": "code",
      "execution_count": 70,
      "metadata": {},
      "outputs": [],
      "source": [
        "x_era.to_csv('data/testing/x_era.csv')"
      ]
    },
    {
      "cell_type": "code",
      "execution_count": 72,
      "metadata": {},
      "outputs": [],
      "source": [
        "x_full = pd.merge(x_df, x_nlp.drop(x_nlp.filter(regex='stat'), axis=1), on=['grid_id', 'year'])\n",
        "x_full = pd.merge(x_full, x_era.drop(x_era.filter(regex='stat'), axis=1), on=['grid_id', 'year'])"
      ]
    },
    {
      "cell_type": "code",
      "execution_count": 75,
      "metadata": {},
      "outputs": [],
      "source": [
        "x_full.to_csv('data/testing/x_full.csv')"
      ]
    },
    {
      "cell_type": "code",
      "execution_count": 252,
      "metadata": {
        "id": "BhWkcF31C8t0"
      },
      "outputs": [],
      "source": [
        "#Riley: you can add attach other features here using some old codes, but be careful with merging, and name the features with 'nlp_' and 'era_'\n",
        "# check there is no redundant features\n",
        "\n",
        "# #attach nlp to xy_df\n",
        "# def attach_nlp(xy_df, df_nlp):\n",
        "#     #correct formatting for df_nlp\n",
        "#     df_nlp = string_to_tuple(df_nlp, 'grid_id')\n",
        "#     #drop text, location and label columns\n",
        "#     df_nlp = df_nlp.drop(['location','txt','label','flood_ct_x'], axis=1)\n",
        "#     #add prefix\n",
        "#     df_nlp = df_nlp.rename(columns={c: 'nlp_' + str(c) for c in df_nlp.columns if c not in ['grid_id']})\n",
        "#     #merge\n",
        "#     xy_df_out = pd.merge(xy_df, df_nlp , on='grid_id', how='left')\n",
        "#     print('shape of xy_df with nlp features', xy_df_out.shape)\n",
        "#     return xy_df_out\n",
        "\n",
        "# #format function for above\n",
        "# def string_to_tuple(df, col):\n",
        "#     try:\n",
        "#         df[col] = df.apply(lambda row: eval(row[col]), axis=1)\n",
        "#     except:\n",
        "#         'error converting to tuple'\n",
        "#     return df\n",
        "\n",
        "# #attach era features\n",
        "# def attach_era(xy_df, df_era):\n",
        "#     #add prefix\n",
        "#     df_era = df_era.rename(columns={c: 'era_' + c for c in df_era.columns if c not in ['grid_id','year']})\n",
        "#     xy_df_out = pd.merge(xy_df, df_era, on=['grid_id','year'], how='left')\n",
        "#     print('shape of xy_df with era features', xy_df_out.shape)\n",
        "#     return xy_df_out\n",
        "\n"
      ]
    },
    {
      "cell_type": "code",
      "execution_count": 253,
      "metadata": {
        "id": "ea3-gCQHOmmj"
      },
      "outputs": [],
      "source": [
        "# Read the CSV file named 'x'\n",
        "# df_nlp = pd.read_csv('data/nlp/df_cls_transfer128.csv')\n",
        "\n",
        "# Read era features"
      ]
    },
    {
      "cell_type": "code",
      "execution_count": 1,
      "metadata": {
        "id": "nHKWng-8Ix5j"
      },
      "outputs": [],
      "source": [
        "# -------- testing code to be migrated to multimodal_new.ipynb ------"
      ]
    },
    {
      "cell_type": "code",
      "execution_count": 2,
      "metadata": {
        "colab": {
          "base_uri": "https://localhost:8080/",
          "height": 211
        },
        "id": "_czdGzzgC72r",
        "outputId": "2cc42979-5d70-40d9-9152-8f23071160d6"
      },
      "outputs": [
        {
          "ename": "NameError",
          "evalue": "name 'attach_target' is not defined",
          "output_type": "error",
          "traceback": [
            "\u001b[0;31m---------------------------------------------------------------------------\u001b[0m",
            "\u001b[0;31mNameError\u001b[0m                                 Traceback (most recent call last)",
            "\u001b[0;32m<ipython-input-2-d768f2a991ba>\u001b[0m in \u001b[0;36m<cell line: 0>\u001b[0;34m()\u001b[0m\n\u001b[1;32m      5\u001b[0m \u001b[0;34m\u001b[0m\u001b[0m\n\u001b[1;32m      6\u001b[0m \u001b[0;31m# x_df = x_df.loc[x_df['year']>=1979] #crop to after 1979\u001b[0m\u001b[0;34m\u001b[0m\u001b[0;34m\u001b[0m\u001b[0m\n\u001b[0;32m----> 7\u001b[0;31m \u001b[0mxy_df\u001b[0m \u001b[0;34m=\u001b[0m \u001b[0mattach_target\u001b[0m\u001b[0;34m(\u001b[0m\u001b[0mx_df\u001b[0m\u001b[0;34m,\u001b[0m \u001b[0my_master\u001b[0m\u001b[0;34m,\u001b[0m \u001b[0;34m'flood'\u001b[0m\u001b[0;34m,\u001b[0m \u001b[0mn_pred\u001b[0m\u001b[0;34m)\u001b[0m\u001b[0;34m\u001b[0m\u001b[0;34m\u001b[0m\u001b[0m\n\u001b[0m\u001b[1;32m      8\u001b[0m \u001b[0mprint\u001b[0m\u001b[0;34m(\u001b[0m\u001b[0;34m'length of xy_df'\u001b[0m\u001b[0;34m,\u001b[0m \u001b[0mlen\u001b[0m\u001b[0;34m(\u001b[0m\u001b[0mxy_df\u001b[0m\u001b[0;34m)\u001b[0m\u001b[0;34m)\u001b[0m\u001b[0;34m\u001b[0m\u001b[0;34m\u001b[0m\u001b[0m\n\u001b[1;32m      9\u001b[0m \u001b[0mprint\u001b[0m\u001b[0;34m(\u001b[0m\u001b[0;34m'imbalance'\u001b[0m\u001b[0;34m,\u001b[0m \u001b[0mxy_df\u001b[0m\u001b[0;34m.\u001b[0m\u001b[0mfilter\u001b[0m\u001b[0;34m(\u001b[0m\u001b[0mregex\u001b[0m\u001b[0;34m=\u001b[0m\u001b[0;34m'target'\u001b[0m\u001b[0;34m)\u001b[0m\u001b[0;34m.\u001b[0m\u001b[0msum\u001b[0m\u001b[0;34m(\u001b[0m\u001b[0;34m)\u001b[0m\u001b[0;34m/\u001b[0m\u001b[0mlen\u001b[0m\u001b[0;34m(\u001b[0m\u001b[0mxy_df\u001b[0m\u001b[0;34m)\u001b[0m\u001b[0;34m)\u001b[0m\u001b[0;34m\u001b[0m\u001b[0;34m\u001b[0m\u001b[0m\n",
            "\u001b[0;31mNameError\u001b[0m: name 'attach_target' is not defined"
          ]
        }
      ],
      "source": [
        "#construct xy_df for appropriate prediction year, depending on the n_pred target period\n",
        "n_pred = 5\n",
        "\n",
        "#Riley: attach NLP and ERA features here\n",
        "\n",
        "# x_df = x_df.loc[x_df['year']>=1979] #crop to after 1979\n",
        "xy_df = attach_target(x_df, y_master, 'flood', n_pred)\n",
        "print('length of xy_df', len(xy_df))\n",
        "print('imbalance', xy_df.filter(regex='target').sum()/len(xy_df))\n",
        "\n",
        "xy_df.columns"
      ]
    },
    {
      "cell_type": "code",
      "execution_count": 262,
      "metadata": {
        "id": "FZO4zP9zEEya"
      },
      "outputs": [],
      "source": [
        "#run a fast xgb model on stats only features:\n",
        "\n",
        "from xgboost import XGBClassifier\n",
        "from sklearn.metrics import classification_report, roc_auc_score, accuracy_score\n",
        "#split training and testing\n",
        "from sklearn.model_selection import train_test_split\n",
        "import utils\n"
      ]
    },
    {
      "cell_type": "code",
      "execution_count": 257,
      "metadata": {
        "colab": {
          "base_uri": "https://localhost:8080/"
        },
        "id": "9BizMtM3x_pS",
        "outputId": "44799c84-1ae9-4b70-ead1-cc68840140d5"
      },
      "outputs": [
        {
          "name": "stdout",
          "output_type": "stream",
          "text": [
            "data imbalance train target_flood_5    0.245012\n",
            "dtype: float64\n",
            "data imbalance test target_flood_5    0.239476\n",
            "dtype: float64\n",
            "running xgb...\n",
            "[10, 20, 65]\n",
            "Train AUC:  0.8563974915055976\n",
            "{'learning_rate': 0.1, 'max_depth': 6, 'n_estimators': 100, 'scale_pos_weight': 20}\n",
            "maximum f1 score, thres 0.6193620013919782 0.7\n",
            "auc, f1, accu, accu_bl, precision, recall=  0.8162112347894114 0.6193620013919782 0.6326788636025584 0.73467759079584 0.3781665059592997 0.9304347826086956\n",
            "[[5511 4715]\n",
            " [ 224 2996]]\n"
          ]
        }
      ],
      "source": [
        "# Random splitting\n",
        "# Separate features (X) and targets (y)\n",
        "x = xy_df.drop(xy_df.filter(regex='target').columns, axis=1)  # Drop target columns\n",
        "x = x.select_dtypes(['number'])  # Keep only numerical columns\n",
        "y = xy_df.filter(regex='target')  # Keep only target columns\n",
        "\n",
        "\n",
        "#train_test_split randomly\n",
        "x_train, x_test, y_train, y_test = train_test_split(x, y, test_size=0.3, random_state=42)\n",
        "print(\"data imbalance train\", y_train.sum()/len(y_train))\n",
        "print(\"data imbalance test\", y_test.sum()/len(y_test))\n",
        "\n",
        "# Evaluate the model\n",
        "y_pred, y_pred_prob = utils.run_xgb(x_train, y_train, x_test)\n",
        "results['stats only random split'] = utils.get_scores_clf(y_test, y_pred_prob)\n"
      ]
    },
    {
      "cell_type": "code",
      "execution_count": 271,
      "metadata": {
        "id": "so3yJ8moxram"
      },
      "outputs": [],
      "source": [
        "\n",
        "# results = {}\n",
        "# Separate features (X) and targets (y)\n",
        "x = xy_df.drop(xy_df.filter(regex='target').columns, axis=1)  # Drop target columns\n",
        "x = x.select_dtypes(['number'])  # Keep only numerical columns\n",
        "y = xy_df.filter(regex='target')  # Keep only target columns\n",
        "\n",
        "# Get the 'year' column\n",
        "years = xy_df['year']\n",
        "\n",
        "# # Determine the split based on years\n",
        "# min_year, max_year = years.min(), years.max()\n",
        "# unique_years = np.sort(years.unique())\n",
        "# split_year = unique_years[int(len(unique_years) * 0.8)]  # 80% split point\n",
        "# print(\"split_year is\", split_year)\n",
        "\n",
        "# Split data chronologically\n",
        "split_year = 2008\n",
        "train_mask = years <= split_year\n",
        "test_mask = years > split_year\n",
        "\n",
        "\n",
        "# #filter to stats only features\n",
        "# x_stat = x.filter(regex='stat')\n",
        "# x_stat_nlp = x.filter(regex='stat|nlp')\n",
        "# print('stat feature no.', x_stat.shape[1])\n",
        "# print('stat_nlp feature no.', x_stat_nlp.shape[1])"
      ]
    },
    {
      "cell_type": "code",
      "execution_count": 272,
      "metadata": {
        "colab": {
          "base_uri": "https://localhost:8080/"
        },
        "id": "wnlQ6drbTg2R",
        "outputId": "07f4ef3b-a7ed-48a5-d92d-1a2068893b00"
      },
      "outputs": [
        {
          "name": "stdout",
          "output_type": "stream",
          "text": [
            "(40670, 26) (4150, 26) (40670, 1) (4150, 1)\n",
            "data imbalance train target_flood_5    0.223949\n",
            "dtype: float64\n",
            "data imbalance test target_flood_5    0.433494\n",
            "dtype: float64\n",
            "running xgb...\n",
            "[10, 20, 65]\n",
            "Train AUC:  0.6382152473759951\n",
            "{'learning_rate': 0.1, 'max_depth': 4, 'n_estimators': 100, 'scale_pos_weight': 10}\n",
            "maximum f1 score, thres 0.45902625667393504 0.7\n",
            "auc, f1, accu, accu_bl, precision, recall=  0.5073786207139512 0.45902625667393504 0.46602409638554215 0.48981817726138793 0.42857794268151067 0.6687048360200111\n",
            "[[ 731 1620]\n",
            " [ 596 1203]]\n"
          ]
        }
      ],
      "source": [
        "## Cynthia: I'M HERE - THE EXPERIMENT IS NOT WORKING, PROBABY DUE TO VARIABLE NAMING ISSUES.\n",
        "# SOMEHOW MULTIMODAL (W/ NLP) feature gives the exact same results.\n",
        "\n",
        "#stat only\n",
        "x_train1, x_test1 = x1[train_mask], x1[test_mask]\n",
        "y_train1, y_test1 = y[train_mask], y[test_mask]\n",
        "\n",
        "print(x_train1.shape, x_test1.shape, y_train1.shape, y_test1.shape)\n",
        "print(\"data imbalance train\", y_train1.sum()/len(y_train1))\n",
        "print(\"data imbalance test\", y_test1.sum()/len(y_test1))\n",
        "\n",
        "# Evaluate the model\n",
        "y_pred, y_pred_prob = utils.run_xgb(x_train1, y_train1, x_test1)\n",
        "results['stats only chrono split'] = utils.get_scores_clf(y_test1, y_pred_prob)"
      ]
    },
    {
      "cell_type": "code",
      "execution_count": 117,
      "metadata": {
        "id": "XtX8-TLiTfdB"
      },
      "outputs": [],
      "source": [
        "# #stat_nlp\n",
        "# x1 = x_stat_nlp.copy()\n",
        "# x_train1, x_test1 = x1[train_mask], x1[test_mask]\n",
        "# y_train1, y_test1 = y[train_mask], y[test_mask]\n",
        "\n",
        "# print(x_train1.shape, x_test1.shape, y_train1.shape, y_test1.shape)\n",
        "# print(\"data imbalance train\", y_train1.sum()/len(y_train1['target_flood_1']))\n",
        "# print(\"data imbalance test\", y_test1.sum()/len(y_test1['target_flood_1']))\n",
        "\n",
        "# # Evaluate the model\n",
        "# y_pred, y_pred_prob = utils.run_xgb(x_train1, y_train1, x_test1)\n",
        "# results['stat_nlp chrono split'] = utils.get_scores_clf(y_test1, y_pred_prob)"
      ]
    },
    {
      "cell_type": "code",
      "execution_count": 118,
      "metadata": {
        "colab": {
          "base_uri": "https://localhost:8080/"
        },
        "id": "BSBlyY7QKKyp",
        "outputId": "5fd7fee6-410d-4445-faaf-e99c17429b3d"
      },
      "outputs": [
        {
          "name": "stdout",
          "output_type": "stream",
          "text": [
            "data imbalance train target_flood_1    0.063387\n",
            "dtype: float64\n",
            "data imbalance test target_flood_1    0.06031\n",
            "dtype: float64\n",
            "running xgb...\n",
            "[10, 20, 65]\n",
            "Train AUC:  0.6460304366152158\n",
            "{'learning_rate': 0.1, 'max_depth': 4, 'n_estimators': 100, 'scale_pos_weight': 10}\n",
            "maximum f1 score, thres 0.5578539426523298 0.5\n",
            "auc, f1, accu, accu_bl, precision, recall=  0.5852580310500348 0.5244485923944082 0.8807644370585791 0.5701789821461157 0.08059317370570726 0.21699196326061998\n",
            "[[12531  1040]\n",
            " [  682   189]]\n"
          ]
        }
      ],
      "source": []
    },
    {
      "cell_type": "code",
      "execution_count": null,
      "metadata": {
        "colab": {
          "base_uri": "https://localhost:8080/"
        },
        "id": "Ber959AnT7-8",
        "outputId": "106f9cad-ba85-4274-e6a9-02781f5f1280"
      },
      "outputs": [
        {
          "name": "stdout",
          "output_type": "stream",
          "text": [
            "running xgb...\n",
            "[10, 20, 65]\n",
            "Train AUC:  0.64322710670894\n",
            "{'learning_rate': 0.1, 'max_depth': 4, 'n_estimators': 100, 'scale_pos_weight': 10}\n",
            "maximum f1 score, thres 0.557240708954047 0.5\n",
            "auc, f1, accu, accu_bl, precision, recall=  0.5858471003501506 0.5235203999663379 0.8796565572635369 0.5701266993904829 0.08039119318980051 0.21814006888633755\n",
            "[[12514  1057]\n",
            " [  681   190]]\n"
          ]
        }
      ],
      "source": [
        "# Random splitting\n",
        "x = x_stat_nlp.copy()\n",
        "\n",
        "#train_test_split randomly\n",
        "x_train, x_test, y_train, y_test = train_test_split(x, y, test_size=0.3, random_state=42)\n",
        "# Evaluate the model\n",
        "y_pred, y_pred_prob = utils.run_xgb(x_train, y_train, x_test) #Riley: generally not a good idea to hardcode numbers like this, better we keep track by having 'nlp_#' on feature names\n",
        "results['stat nlp random split'] = utils.get_scores_clf(y_test, y_pred_prob)\n"
      ]
    },
    {
      "cell_type": "code",
      "execution_count": null,
      "metadata": {
        "colab": {
          "base_uri": "https://localhost:8080/"
        },
        "id": "9NBOXV5PVMsY",
        "outputId": "795bc3b5-ea98-48c1-b58c-aadd64bfa721"
      },
      "outputs": [
        {
          "data": {
            "text/plain": [
              "{'stats only chrono split': (0.5530617333925372,\n",
              "  0.5397086632788902,\n",
              "  0.7947426067907996,\n",
              "  0.5430581031568511,\n",
              "  0.13174229360566664,\n",
              "  0.2137546468401487),\n",
              " 'stat_nlp chrono split': (0.5530617333925372,\n",
              "  0.5397086632788902,\n",
              "  0.7947426067907996,\n",
              "  0.5430581031568511,\n",
              "  0.13174229360566664,\n",
              "  0.2137546468401487),\n",
              " 'stats only random split': (0.5852580310500348,\n",
              "  0.5578539426523298,\n",
              "  0.8807644370585791,\n",
              "  0.5701789821461157,\n",
              "  0.08059317370570726,\n",
              "  0.21699196326061998),\n",
              " 'stat nlp random split': (0.5858471003501506,\n",
              "  0.557240708954047,\n",
              "  0.8796565572635369,\n",
              "  0.5701266993904829,\n",
              "  0.08039119318980051,\n",
              "  0.21814006888633755)}"
            ]
          },
          "execution_count": 79,
          "metadata": {},
          "output_type": "execute_result"
        }
      ],
      "source": [
        "\n",
        "results"
      ]
    },
    {
      "cell_type": "code",
      "execution_count": null,
      "metadata": {
        "colab": {
          "base_uri": "https://localhost:8080/",
          "height": 472
        },
        "id": "-bZ45mNDQ36k",
        "outputId": "b12b9a73-0850-4009-ab99-191da6127055"
      },
      "outputs": [
        {
          "data": {
            "image/png": "[encoded data removed]",
            "text/plain": [
              "<Figure size 640x480 with 1 Axes>"
            ]
          },
          "metadata": {},
          "output_type": "display_data"
        }
      ],
      "source": [
        "# Let's see feature importance:\n",
        "\n",
        "import xgboost as xgb\n",
        "import matplotlib.pyplot as plt\n",
        "\n",
        "\n",
        "model = xgb.XGBClassifier()\n",
        "model.fit(x_train, y_train)\n",
        "\n",
        "# Plot feature importance\n",
        "xgb.plot_importance(model, max_num_features=50,importance_type='weight')  # Options: 'weight', 'gain', 'cover', 'total_gain', 'total_cover'\n",
        "\n",
        "# Customize the plot (optional)\n",
        "plt.title('Feature Importance')\n",
        "plt.xlabel('F Score')\n",
        "plt.ylabel('Features')\n",
        "plt.show()"
      ]
    },
    {
      "cell_type": "code",
      "execution_count": null,
      "metadata": {
        "id": "T_GxersK8_Ww"
      },
      "outputs": [],
      "source": [
        "## to do:\n",
        "#- add ERA and NLP features\n",
        "#- right now multimodal does not have an edge\n"
      ]
    },
    {
      "cell_type": "code",
      "execution_count": null,
      "metadata": {
        "id": "xof-Ae-R8_Ww"
      },
      "outputs": [],
      "source": []
    }
  ],
  "metadata": {
    "accelerator": "GPU",
    "colab": {
      "gpuType": "T4",
      "provenance": []
    },
    "kernelspec": {
      "display_name": "venv_mml",
      "language": "python",
      "name": "python3"
    },
    "language_info": {
      "codemirror_mode": {
        "name": "ipython",
        "version": 3
      },
      "file_extension": ".py",
      "mimetype": "text/x-python",
      "name": "python",
      "nbconvert_exporter": "python",
      "pygments_lexer": "ipython3",
      "version": "3.12.8"
    },
    "latex_envs": {
      "LaTeX_envs_menu_present": true,
      "autoclose": false,
      "autocomplete": true,
      "bibliofile": "biblio.bib",
      "cite_by": "apalike",
      "current_citInitial": 1,
      "eqLabelWithNumbers": true,
      "eqNumInitial": 1,
      "hotkeys": {
        "equation": "Ctrl-E",
        "itemize": "Ctrl-I"
      },
      "labels_anchors": false,
      "latex_user_defs": false,
      "report_style_numbering": false,
      "user_envs_cfg": false
    },
    "toc": {
      "base_numbering": 1,
      "nav_menu": {},
      "number_sections": true,
      "sideBar": true,
      "skip_h1_title": false,
      "title_cell": "Table of Contents",
      "title_sidebar": "Contents",
      "toc_cell": false,
      "toc_position": {},
      "toc_section_display": true,
      "toc_window_display": false
    }
  },
  "nbformat": 4,
  "nbformat_minor": 0
}
