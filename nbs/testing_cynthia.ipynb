{
 "cells": [
  {
   "cell_type": "markdown",
   "metadata": {},
   "source": [
    "### Testing"
   ]
  },
  {
   "cell_type": "code",
   "execution_count": 6,
   "metadata": {},
   "outputs": [
    {
     "name": "stdout",
     "output_type": "stream",
     "text": [
      "/Users/cz938/Library/CloudStorage/Box-Box/NYUAD/Research/mml_flood\n"
     ]
    },
    {
     "name": "stderr",
     "output_type": "stream",
     "text": [
      "/Users/cz938/Library/CloudStorage/Box-Box/NYUAD/Research/mml_flood/venv_mml/lib/python3.9/site-packages/IPython/core/magics/osm.py:417: UserWarning: using dhist requires you to install the `pickleshare` library.\n"
     ]
    }
   ],
   "source": [
    "%cd .."
   ]
  },
  {
   "cell_type": "code",
   "execution_count": 2,
   "metadata": {},
   "outputs": [],
   "source": [
    "# !pip install xgboost"
   ]
  },
  {
   "cell_type": "code",
   "execution_count": 3,
   "metadata": {},
   "outputs": [],
   "source": [
    "import pandas as pd\n",
    "# import utils\n",
    "import numpy as np\n",
    "from sklearn.model_selection import train_test_split\n",
    "from sklearn import metrics\n"
   ]
  },
  {
   "cell_type": "code",
   "execution_count": 4,
   "metadata": {},
   "outputs": [],
   "source": [
    "\n",
    "def baseline(y_test, results):\n",
    "\ty_base = np.zeros(len(y_test)) \n",
    "\tprint('Dumb baseline AUC', metrics.roc_auc_score(y_test,y_base))\n",
    "\tresults['base1']=utils.get_scores_clf(y_test,y_base)\n",
    "\n",
    "def stats_only(x_train, y_train, x_test, y_test, results):\n",
    "\ty_pred, y_pred_prob = utils.run_xgb(x_train.iloc[:, :25], np.ravel(y_train), x_test.iloc[:, :25]) #Riley: generally not a good idea to hardcode numbers like this, better we keep track by having 'nlp_#' on feature names\n",
    "\tresults['stats only'] = utils.get_scores_clf(y_test, y_pred_prob)\n",
    "\n",
    "def nlp_only(x_train, y_train, x_test, y_test, results):\n",
    "\ty_pred, y_pred_prob = utils.run_xgb(x_train.iloc[:, 25:153], np.ravel(y_train), x_test.iloc[:, 25:153])\n",
    "\tresults['nlp only'] = utils.get_scores_clf(y_test, y_pred_prob)\n",
    "\n",
    "def weather_only(x_train, y_train, x_test, y_test, results):\n",
    "\ty_pred, y_pred_prob = utils.run_xgb(x_train.iloc[:, 153:], np.ravel(y_train), x_test.iloc[:, 153:])\n",
    "\tresults['weather only'] = utils.get_scores_clf(y_test, y_pred_prob)\n",
    " \n",
    "def stats_nlp(x_train, y_train, x_test, y_test, results):\n",
    "\ty_pred, y_pred_prob = utils.run_xgb(x_train.iloc[:, :153], np.ravel(y_train), x_test.iloc[:, :153])\n",
    "\tresults['stats nlp'] = utils.get_scores_clf(y_test, y_pred_prob)\n",
    "\n",
    "def weather_nlp(x_train, y_train, x_test, y_test, results):\n",
    "\ty_pred, y_pred_prob = utils.run_xgb(x_train.iloc[:, 25:], np.ravel(y_train), x_test.iloc[:, 25:])\n",
    "\tresults['weather nlp'] = utils.get_scores_clf(y_test, y_pred_prob)\n",
    " \n",
    "def stats_weather(x_train, y_train, x_test, y_test, results):\n",
    "\ty_pred, y_pred_prob = utils.run_xgb(x_train.drop(columns=x_train.columns[25:25+128]), np.ravel(y_train), x_test.drop(columns=x_train.columns[25:25+128]))\n",
    "\tresults['stats weather'] = utils.get_scores_clf(y_test, y_pred_prob)\n",
    "\n",
    "def all_vars(x_train, y_train, x_test, y_test, results):\n",
    "\ty_pred, y_pred_prob = utils.run_xgb(x_train, np.ravel(y_train), x_test)\n",
    "\tresults['all vars'] = utils.get_scores_clf(y_test, y_pred_prob)"
   ]
  },
  {
   "cell_type": "markdown",
   "metadata": {},
   "source": [
    "# N = 1"
   ]
  },
  {
   "cell_type": "code",
   "execution_count": null,
   "metadata": {},
   "outputs": [
    {
     "name": "stdout",
     "output_type": "stream",
     "text": [
      "(33783, 633) (14479, 633) (33783, 1) (14479, 1)\n"
     ]
    }
   ],
   "source": [
    "xy_df_sub1 = pd.read_csv('data/xy_df/xy_df_sub1_weather_full.csv')\n",
    "xy_df_sub1 = xy_df_sub1.drop([ 'latitude', 'longitude', 'Start Year', 'Start Month', 'Start Day', 'End Year', 'End Month', 'End Day', 'label', 'Unnamed: 0', ], axis=1)\n",
    "x = xy_df_sub1.drop(xy_df_sub1.filter(regex='target').columns, axis=1)#drop target col\n",
    "x = x.select_dtypes(['number'])#drop index col\n",
    "y = xy_df_sub1.filter(regex='target') #filter to cols containing target\n",
    "\n",
    "column_index = x.columns.get_loc('year')\n",
    "x = x.iloc[:, column_index+1:]\n",
    "x_train1, x_test1, y_train1, y_test1 = train_test_split(x, y, test_size=0.3, random_state=42) # Riley: something to think, I think I didn't do random shuffle but kept chronologically \n",
    "\n",
    "print(x_train1.shape, x_test1.shape, y_train1.shape, y_test1.shape)"
   ]
  },
  {
   "cell_type": "code",
   "execution_count": 13,
   "metadata": {},
   "outputs": [
    {
     "data": {
      "text/html": [
       "<div>\n",
       "<style scoped>\n",
       "    .dataframe tbody tr th:only-of-type {\n",
       "        vertical-align: middle;\n",
       "    }\n",
       "\n",
       "    .dataframe tbody tr th {\n",
       "        vertical-align: top;\n",
       "    }\n",
       "\n",
       "    .dataframe thead th {\n",
       "        text-align: right;\n",
       "    }\n",
       "</style>\n",
       "<table border=\"1\" class=\"dataframe\">\n",
       "  <thead>\n",
       "    <tr style=\"text-align: right;\">\n",
       "      <th></th>\n",
       "      <th>Unnamed: 0.1</th>\n",
       "      <th>grid_id</th>\n",
       "      <th>year</th>\n",
       "      <th>flood_amt</th>\n",
       "      <th>storm_amt</th>\n",
       "      <th>earthquake_amt</th>\n",
       "      <th>extreme temperature _amt</th>\n",
       "      <th>landslide_amt</th>\n",
       "      <th>volcanic activity_amt</th>\n",
       "      <th>drought_amt</th>\n",
       "      <th>...</th>\n",
       "      <th>feature_470</th>\n",
       "      <th>feature_471</th>\n",
       "      <th>feature_472</th>\n",
       "      <th>feature_473</th>\n",
       "      <th>feature_474</th>\n",
       "      <th>feature_475</th>\n",
       "      <th>feature_476</th>\n",
       "      <th>feature_477</th>\n",
       "      <th>feature_478</th>\n",
       "      <th>feature_479</th>\n",
       "    </tr>\n",
       "  </thead>\n",
       "  <tbody>\n",
       "    <tr>\n",
       "      <th>0</th>\n",
       "      <td>0</td>\n",
       "      <td>(45, 348)</td>\n",
       "      <td>1960</td>\n",
       "      <td>0.0</td>\n",
       "      <td>0.0</td>\n",
       "      <td>0.0</td>\n",
       "      <td>0.0</td>\n",
       "      <td>0.0</td>\n",
       "      <td>0.0</td>\n",
       "      <td>0.0</td>\n",
       "      <td>...</td>\n",
       "      <td>-0.065926</td>\n",
       "      <td>-1.259714</td>\n",
       "      <td>-1.017257</td>\n",
       "      <td>-0.316835</td>\n",
       "      <td>-1.078647</td>\n",
       "      <td>-0.714023</td>\n",
       "      <td>-0.494092</td>\n",
       "      <td>-1.079635</td>\n",
       "      <td>-0.884315</td>\n",
       "      <td>-0.278880</td>\n",
       "    </tr>\n",
       "    <tr>\n",
       "      <th>1</th>\n",
       "      <td>1</td>\n",
       "      <td>(45, 348)</td>\n",
       "      <td>1961</td>\n",
       "      <td>0.0</td>\n",
       "      <td>0.0</td>\n",
       "      <td>0.0</td>\n",
       "      <td>0.0</td>\n",
       "      <td>0.0</td>\n",
       "      <td>0.0</td>\n",
       "      <td>0.0</td>\n",
       "      <td>...</td>\n",
       "      <td>-0.827393</td>\n",
       "      <td>-1.128178</td>\n",
       "      <td>-0.851815</td>\n",
       "      <td>-0.948912</td>\n",
       "      <td>-0.720752</td>\n",
       "      <td>-0.325468</td>\n",
       "      <td>-0.686827</td>\n",
       "      <td>-1.966628</td>\n",
       "      <td>-1.372923</td>\n",
       "      <td>-1.526947</td>\n",
       "    </tr>\n",
       "    <tr>\n",
       "      <th>2</th>\n",
       "      <td>2</td>\n",
       "      <td>(45, 348)</td>\n",
       "      <td>1970</td>\n",
       "      <td>0.0</td>\n",
       "      <td>0.0</td>\n",
       "      <td>0.0</td>\n",
       "      <td>0.0</td>\n",
       "      <td>0.0</td>\n",
       "      <td>0.0</td>\n",
       "      <td>0.0</td>\n",
       "      <td>...</td>\n",
       "      <td>-0.286424</td>\n",
       "      <td>-1.477790</td>\n",
       "      <td>-0.369442</td>\n",
       "      <td>-0.694219</td>\n",
       "      <td>-1.491534</td>\n",
       "      <td>-1.156600</td>\n",
       "      <td>-1.244941</td>\n",
       "      <td>-1.335228</td>\n",
       "      <td>-0.803331</td>\n",
       "      <td>-1.001159</td>\n",
       "    </tr>\n",
       "    <tr>\n",
       "      <th>3</th>\n",
       "      <td>3</td>\n",
       "      <td>(45, 350)</td>\n",
       "      <td>2001</td>\n",
       "      <td>0.0</td>\n",
       "      <td>0.0</td>\n",
       "      <td>0.0</td>\n",
       "      <td>0.0</td>\n",
       "      <td>0.0</td>\n",
       "      <td>0.0</td>\n",
       "      <td>0.0</td>\n",
       "      <td>...</td>\n",
       "      <td>-0.645275</td>\n",
       "      <td>-0.927491</td>\n",
       "      <td>-0.782172</td>\n",
       "      <td>-1.245552</td>\n",
       "      <td>-0.693470</td>\n",
       "      <td>-0.964625</td>\n",
       "      <td>-1.113105</td>\n",
       "      <td>-0.475281</td>\n",
       "      <td>-0.160082</td>\n",
       "      <td>-0.303555</td>\n",
       "    </tr>\n",
       "    <tr>\n",
       "      <th>4</th>\n",
       "      <td>4</td>\n",
       "      <td>(56, 123)</td>\n",
       "      <td>2016</td>\n",
       "      <td>0.0</td>\n",
       "      <td>0.0</td>\n",
       "      <td>0.0</td>\n",
       "      <td>0.0</td>\n",
       "      <td>0.0</td>\n",
       "      <td>0.0</td>\n",
       "      <td>0.0</td>\n",
       "      <td>...</td>\n",
       "      <td>1.001294</td>\n",
       "      <td>1.630767</td>\n",
       "      <td>0.898941</td>\n",
       "      <td>-0.054849</td>\n",
       "      <td>0.669643</td>\n",
       "      <td>-0.322016</td>\n",
       "      <td>0.956401</td>\n",
       "      <td>0.335617</td>\n",
       "      <td>-0.508404</td>\n",
       "      <td>-0.685915</td>\n",
       "    </tr>\n",
       "  </tbody>\n",
       "</table>\n",
       "<p>5 rows × 637 columns</p>\n",
       "</div>"
      ],
      "text/plain": [
       "   Unnamed: 0.1    grid_id  year  flood_amt  storm_amt  earthquake_amt  \\\n",
       "0             0  (45, 348)  1960        0.0        0.0             0.0   \n",
       "1             1  (45, 348)  1961        0.0        0.0             0.0   \n",
       "2             2  (45, 348)  1970        0.0        0.0             0.0   \n",
       "3             3  (45, 350)  2001        0.0        0.0             0.0   \n",
       "4             4  (56, 123)  2016        0.0        0.0             0.0   \n",
       "\n",
       "   extreme temperature _amt  landslide_amt  volcanic activity_amt  \\\n",
       "0                       0.0            0.0                    0.0   \n",
       "1                       0.0            0.0                    0.0   \n",
       "2                       0.0            0.0                    0.0   \n",
       "3                       0.0            0.0                    0.0   \n",
       "4                       0.0            0.0                    0.0   \n",
       "\n",
       "   drought_amt  ...  feature_470  feature_471  feature_472  feature_473  \\\n",
       "0          0.0  ...    -0.065926    -1.259714    -1.017257    -0.316835   \n",
       "1          0.0  ...    -0.827393    -1.128178    -0.851815    -0.948912   \n",
       "2          0.0  ...    -0.286424    -1.477790    -0.369442    -0.694219   \n",
       "3          0.0  ...    -0.645275    -0.927491    -0.782172    -1.245552   \n",
       "4          0.0  ...     1.001294     1.630767     0.898941    -0.054849   \n",
       "\n",
       "   feature_474  feature_475  feature_476  feature_477  feature_478  \\\n",
       "0    -1.078647    -0.714023    -0.494092    -1.079635    -0.884315   \n",
       "1    -0.720752    -0.325468    -0.686827    -1.966628    -1.372923   \n",
       "2    -1.491534    -1.156600    -1.244941    -1.335228    -0.803331   \n",
       "3    -0.693470    -0.964625    -1.113105    -0.475281    -0.160082   \n",
       "4     0.669643    -0.322016     0.956401     0.335617    -0.508404   \n",
       "\n",
       "   feature_479  \n",
       "0    -0.278880  \n",
       "1    -1.526947  \n",
       "2    -1.001159  \n",
       "3    -0.303555  \n",
       "4    -0.685915  \n",
       "\n",
       "[5 rows x 637 columns]"
      ]
     },
     "execution_count": 13,
     "metadata": {},
     "output_type": "execute_result"
    }
   ],
   "source": [
    "xy_df_sub1.head(5)"
   ]
  },
  {
   "cell_type": "code",
   "execution_count": 11,
   "metadata": {},
   "outputs": [],
   "source": [
    "results1 = {}"
   ]
  },
  {
   "cell_type": "code",
   "execution_count": 12,
   "metadata": {},
   "outputs": [
    {
     "name": "stdout",
     "output_type": "stream",
     "text": [
      "Dumb baseline AUC 0.5\n"
     ]
    },
    {
     "ename": "NameError",
     "evalue": "name 'utils' is not defined",
     "output_type": "error",
     "traceback": [
      "\u001b[0;31m---------------------------------------------------------------------------\u001b[0m",
      "\u001b[0;31mNameError\u001b[0m                                 Traceback (most recent call last)",
      "Cell \u001b[0;32mIn[12], line 1\u001b[0m\n\u001b[0;32m----> 1\u001b[0m \u001b[43mbaseline\u001b[49m\u001b[43m(\u001b[49m\u001b[43my_test1\u001b[49m\u001b[43m,\u001b[49m\u001b[43m \u001b[49m\u001b[43mresults1\u001b[49m\u001b[43m)\u001b[49m\n",
      "Cell \u001b[0;32mIn[4], line 4\u001b[0m, in \u001b[0;36mbaseline\u001b[0;34m(y_test, results)\u001b[0m\n\u001b[1;32m      2\u001b[0m y_base \u001b[38;5;241m=\u001b[39m np\u001b[38;5;241m.\u001b[39mzeros(\u001b[38;5;28mlen\u001b[39m(y_test)) \n\u001b[1;32m      3\u001b[0m \u001b[38;5;28mprint\u001b[39m(\u001b[38;5;124m'\u001b[39m\u001b[38;5;124mDumb baseline AUC\u001b[39m\u001b[38;5;124m'\u001b[39m, metrics\u001b[38;5;241m.\u001b[39mroc_auc_score(y_test,y_base))\n\u001b[0;32m----> 4\u001b[0m results[\u001b[38;5;124m'\u001b[39m\u001b[38;5;124mbase1\u001b[39m\u001b[38;5;124m'\u001b[39m]\u001b[38;5;241m=\u001b[39m\u001b[43mutils\u001b[49m\u001b[38;5;241m.\u001b[39mget_scores_clf(y_test,y_base)\n",
      "\u001b[0;31mNameError\u001b[0m: name 'utils' is not defined"
     ]
    }
   ],
   "source": [
    "baseline(y_test1, results1)"
   ]
  },
  {
   "cell_type": "code",
   "execution_count": null,
   "metadata": {},
   "outputs": [
    {
     "name": "stdout",
     "output_type": "stream",
     "text": [
      "running xgb...\n",
      "[10, 20, 65]\n",
      "Train AUC:  0.9755363036691113\n",
      "{'learning_rate': 0.1, 'max_depth': 4, 'n_estimators': 100, 'scale_pos_weight': 10}\n",
      "maximum f1 score, thres 0.6145012437639166 0.6\n",
      "auc, f1, accu, accu_bl, precision, recall=  0.9589326370081033 0.5862548586881776 0.9520685130188549 0.7462431188904666 0.09597767885780048 0.5339366515837104\n",
      "[[13667   591]\n",
      " [  103   118]]\n"
     ]
    }
   ],
   "source": [
    "stats_only(x_train1, y_train1, x_test1, y_test1, results1)"
   ]
  },
  {
   "cell_type": "code",
   "execution_count": null,
   "metadata": {},
   "outputs": [
    {
     "name": "stdout",
     "output_type": "stream",
     "text": [
      "running xgb...\n",
      "[10, 20, 65]\n",
      "Train AUC:  0.8753095143386883\n",
      "{'learning_rate': 0.1, 'max_depth': 6, 'n_estimators': 100, 'scale_pos_weight': 20}\n",
      "maximum f1 score, thres 0.5563224804334327 0.6\n",
      "auc, f1, accu, accu_bl, precision, recall=  0.7042259041363774 0.5559558099639905 0.9603563782029145 0.5856255026153453 0.032088957145297796 0.19909502262443438\n",
      "[[13861   397]\n",
      " [  177    44]]\n"
     ]
    }
   ],
   "source": [
    "nlp_only(x_train1, y_train1, x_test1, y_test1, results1)"
   ]
  },
  {
   "cell_type": "code",
   "execution_count": 35,
   "metadata": {},
   "outputs": [
    {
     "name": "stdout",
     "output_type": "stream",
     "text": [
      "running xgb...\n",
      "[10, 20, 65]\n",
      "Train AUC:  0.9990863676794355\n",
      "{'learning_rate': 0.1, 'max_depth': 6, 'n_estimators': 100, 'scale_pos_weight': 10}\n",
      "maximum f1 score, thres 0.5377543506730906 0.4\n",
      "auc, f1, accu, accu_bl, precision, recall=  0.7093306036334923 0.5002709577651027 0.9807307134470613 0.5269219344351571 0.023469274442286067 0.058823529411764705\n",
      "[[14187    71]\n",
      " [  208    13]]\n"
     ]
    }
   ],
   "source": [
    "weather_only(x_train1, y_train1, x_test1, y_test1, results1)"
   ]
  },
  {
   "cell_type": "code",
   "execution_count": null,
   "metadata": {},
   "outputs": [
    {
     "name": "stdout",
     "output_type": "stream",
     "text": [
      "running xgb...\n",
      "[10, 20, 65]\n",
      "Train AUC:  0.9888364092415316\n",
      "{'learning_rate': 0.1, 'max_depth': 4, 'n_estimators': 100, 'scale_pos_weight': 10}\n",
      "maximum f1 score, thres 0.6394274104608029 0.6\n",
      "auc, f1, accu, accu_bl, precision, recall=  0.9632748844976449 0.6353185734470012 0.9649837695973479 0.7282997113948572 0.11148433165336347 0.4841628959276018\n",
      "[[13865   393]\n",
      " [  114   107]]\n"
     ]
    }
   ],
   "source": [
    "stats_nlp(x_train1, y_train1, x_test1, y_test1, results1)"
   ]
  },
  {
   "cell_type": "code",
   "execution_count": 37,
   "metadata": {},
   "outputs": [
    {
     "name": "stdout",
     "output_type": "stream",
     "text": [
      "running xgb...\n",
      "[10, 20, 65]\n",
      "Train AUC:  0.9838890228633794\n",
      "{'learning_rate': 0.1, 'max_depth': 4, 'n_estimators': 100, 'scale_pos_weight': 10}\n",
      "maximum f1 score, thres 0.5705445735285974 0.4\n",
      "auc, f1, accu, accu_bl, precision, recall=  0.7127926593881723 0.5051003539858206 0.9735478969542095 0.572277118061528 0.036738373903134586 0.1583710407239819\n",
      "[[14061   197]\n",
      " [  186    35]]\n"
     ]
    }
   ],
   "source": [
    "weather_nlp(x_train1, y_train1, x_test1, y_test1, results1)"
   ]
  },
  {
   "cell_type": "code",
   "execution_count": null,
   "metadata": {},
   "outputs": [
    {
     "name": "stdout",
     "output_type": "stream",
     "text": [
      "running xgb...\n",
      "[10, 20, 65]\n",
      "Train AUC:  0.9999673608397704\n",
      "{'learning_rate': 0.1, 'max_depth': 6, 'n_estimators': 100, 'scale_pos_weight': 10}\n",
      "maximum f1 score, thres 0.652524130843805 0.4\n",
      "auc, f1, accu, accu_bl, precision, recall=  0.9621782547735366 0.6089128544323812 0.9725809793494026 0.7009739392158344 0.11695018678473228 0.42081447963800905\n",
      "[[13989   269]\n",
      " [  128    93]]\n"
     ]
    }
   ],
   "source": [
    "stats_weather(x_train1, y_train1, x_test1, y_test1, results1)"
   ]
  },
  {
   "cell_type": "code",
   "execution_count": 39,
   "metadata": {},
   "outputs": [
    {
     "name": "stdout",
     "output_type": "stream",
     "text": [
      "running xgb...\n",
      "[10, 20, 65]\n",
      "Train AUC:  0.9999676543573984\n",
      "{'learning_rate': 0.1, 'max_depth': 6, 'n_estimators': 100, 'scale_pos_weight': 10}\n",
      "maximum f1 score, thres 0.6408646720163109 0.4\n",
      "auc, f1, accu, accu_bl, precision, recall=  0.9601178095459943 0.6022015538877009 0.9729953726086056 0.6766832179314748 0.10069394094353928 0.37104072398190047\n",
      "[[14006   252]\n",
      " [  139    82]]\n"
     ]
    }
   ],
   "source": [
    "all_vars(x_train1, y_train1, x_test1, y_test1, results1)"
   ]
  },
  {
   "cell_type": "markdown",
   "metadata": {},
   "source": [
    "# N = 2"
   ]
  },
  {
   "cell_type": "code",
   "execution_count": 49,
   "metadata": {},
   "outputs": [],
   "source": [
    "xy_df_sub2 = pd.read_csv('data/xy_df/xy_df_sub_2.csv')\n",
    "xy_df_sub2 = xy_df_sub2.drop([ 'latitude', 'longitude', 'Start Year', 'Start Month', 'Start Day', 'End Year', 'End Month', 'End Day', 'label', 'Unnamed: 0'], axis=1)\n",
    "x = xy_df_sub2.drop(xy_df_sub2.filter(regex='target').columns, axis=1)#drop target col\n",
    "x = x.select_dtypes(['number'])#drop index col\n",
    "y = xy_df_sub2.filter(regex='target') #filter to cols containing target\n",
    "\n",
    "column_index = x.columns.get_loc('year')\n",
    "x = x.iloc[:, column_index+1:]\n",
    "x_train2, x_test2, y_train2, y_test2 = train_test_split(x, y, test_size=0.3, random_state=42)"
   ]
  },
  {
   "cell_type": "code",
   "execution_count": 50,
   "metadata": {},
   "outputs": [
    {
     "name": "stdout",
     "output_type": "stream",
     "text": [
      "Dumb baseline AUC 0.5\n",
      "maximum f1 score, thres 0.4965402134983831 0.4\n",
      "auc, f1, accu, accu_bl, precision, recall=  0.5 0.4965402134983831 0.9862559569031011 0.5 0.013744043096898957 0.0\n",
      "[[14280     0]\n",
      " [  199     0]]\n"
     ]
    }
   ],
   "source": [
    "results2 = {}\n",
    "\n",
    "baseline(y_test2, results2)"
   ]
  },
  {
   "cell_type": "code",
   "execution_count": 51,
   "metadata": {},
   "outputs": [
    {
     "name": "stdout",
     "output_type": "stream",
     "text": [
      "running xgb...\n",
      "[10, 20, 65]\n",
      "Train AUC:  0.9818527874075745\n",
      "{'learning_rate': 0.1, 'max_depth': 4, 'n_estimators': 100, 'scale_pos_weight': 10}\n",
      "maximum f1 score, thres 0.6605495735305698 0.7\n",
      "auc, f1, accu, accu_bl, precision, recall=  0.9735614346241008 0.6605495735305698 0.9772774362870364 0.6986071815660938 0.12300905196812514 0.4120603015075377\n",
      "[[14068   212]\n",
      " [  117    82]]\n"
     ]
    }
   ],
   "source": [
    "stats_only(x_train2, y_train2, x_test2, y_test2, results2)"
   ]
  },
  {
   "cell_type": "code",
   "execution_count": null,
   "metadata": {},
   "outputs": [
    {
     "name": "stdout",
     "output_type": "stream",
     "text": [
      "running xgb...\n",
      "[10, 20, 65]\n",
      "Train AUC:  0.8888252532198024\n",
      "{'learning_rate': 0.1, 'max_depth': 6, 'n_estimators': 100, 'scale_pos_weight': 10}\n",
      "maximum f1 score, thres 0.5602885757638602 0.5\n",
      "auc, f1, accu, accu_bl, precision, recall=  0.731011324127641 0.5151082322584672 0.9693348988189792 0.5781357769238349 0.030868904305428733 0.17587939698492464\n",
      "[[14000   280]\n",
      " [  164    35]]\n"
     ]
    }
   ],
   "source": [
    "nlp_only(x_train2, y_train2, x_test2, y_test2, results2)"
   ]
  },
  {
   "cell_type": "code",
   "execution_count": 53,
   "metadata": {},
   "outputs": [
    {
     "name": "stdout",
     "output_type": "stream",
     "text": [
      "running xgb...\n",
      "[10, 20, 65]\n",
      "Train AUC:  0.9993584532944344\n",
      "{'learning_rate': 0.1, 'max_depth': 6, 'n_estimators': 100, 'scale_pos_weight': 20}\n",
      "maximum f1 score, thres 0.5618658077044751 0.4\n",
      "auc, f1, accu, accu_bl, precision, recall=  0.7213791295412638 0.5324516819157687 0.9794875336694523 0.5535522500457469 0.03061589294555441 0.11557788944723618\n",
      "[[14159   121]\n",
      " [  176    23]]\n"
     ]
    }
   ],
   "source": [
    "weather_only(x_train2, y_train2, x_test2, y_test2, results2)"
   ]
  },
  {
   "cell_type": "code",
   "execution_count": null,
   "metadata": {},
   "outputs": [
    {
     "name": "stdout",
     "output_type": "stream",
     "text": [
      "running xgb...\n",
      "[10, 20, 65]\n",
      "Train AUC:  0.9840353444350358\n",
      "{'learning_rate': 0.1, 'max_depth': 4, 'n_estimators': 100, 'scale_pos_weight': 10}\n",
      "maximum f1 score, thres 0.5722210017235636 0.4\n",
      "auc, f1, accu, accu_bl, precision, recall=  0.7296244879861493 0.5156429822148172 0.9768630430278334 0.5720421083006066 0.035992636149821 0.15577889447236182\n",
      "[[14113   167]\n",
      " [  168    31]]\n"
     ]
    }
   ],
   "source": [
    "weather_nlp(x_train2, y_train2, x_test2, y_test2, results2)"
   ]
  },
  {
   "cell_type": "code",
   "execution_count": null,
   "metadata": {},
   "outputs": [
    {
     "name": "stdout",
     "output_type": "stream",
     "text": [
      "running xgb...\n",
      "[10, 20, 65]\n",
      "Train AUC:  0.9899113290337396\n",
      "{'learning_rate': 0.1, 'max_depth': 4, 'n_estimators': 100, 'scale_pos_weight': 10}\n",
      "maximum f1 score, thres 0.6639083141366179 0.7\n",
      "auc, f1, accu, accu_bl, precision, recall=  0.9713295117041791 0.6639083141366179 0.9781752883486429 0.6965848148304548 0.12632123677232232 0.40703517587939697\n",
      "[[14082   198]\n",
      " [  118    81]]\n"
     ]
    }
   ],
   "source": [
    "stats_nlp(x_train2, y_train2, x_test2, y_test2, results2)"
   ]
  },
  {
   "cell_type": "code",
   "execution_count": null,
   "metadata": {},
   "outputs": [
    {
     "name": "stdout",
     "output_type": "stream",
     "text": [
      "running xgb...\n",
      "[10, 20, 65]\n",
      "Train AUC:  0.9999905079270226\n",
      "{'learning_rate': 0.1, 'max_depth': 6, 'n_estimators': 100, 'scale_pos_weight': 10}\n",
      "maximum f1 score, thres 0.6514583563554209 0.4\n",
      "auc, f1, accu, accu_bl, precision, recall=  0.9693254437453374 0.6041131111846925 0.9794184681262518 0.6650069324212097 0.10792495171042518 0.3417085427135678\n",
      "[[14113   167]\n",
      " [  131    68]]\n"
     ]
    }
   ],
   "source": [
    "stats_weather(x_train2, y_train2, x_test2, y_test2, results2)"
   ]
  },
  {
   "cell_type": "code",
   "execution_count": 57,
   "metadata": {},
   "outputs": [
    {
     "name": "stdout",
     "output_type": "stream",
     "text": [
      "running xgb...\n",
      "[10, 20, 65]\n",
      "Train AUC:  0.9999882246104987\n",
      "{'learning_rate': 0.1, 'max_depth': 6, 'n_estimators': 100, 'scale_pos_weight': 10}\n",
      "maximum f1 score, thres 0.6590628045920017 0.4\n",
      "auc, f1, accu, accu_bl, precision, recall=  0.9681726208071169 0.5906581345301145 0.9785896816078459 0.6844071548217276 0.11885675621723797 0.38190954773869346\n",
      "[[14093   187]\n",
      " [  123    76]]\n"
     ]
    }
   ],
   "source": [
    "all_vars(x_train2, y_train2, x_test2, y_test2, results2)"
   ]
  },
  {
   "cell_type": "markdown",
   "metadata": {},
   "source": [
    "# N = 5"
   ]
  },
  {
   "cell_type": "code",
   "execution_count": 62,
   "metadata": {},
   "outputs": [
    {
     "name": "stdout",
     "output_type": "stream",
     "text": [
      "(33783, 633) (14479, 633) (33783, 1) (14479, 1)\n"
     ]
    }
   ],
   "source": [
    "xy_df_sub5 = pd.read_csv('xy_df_sub_5_combined.csv')\n",
    "xy_df_sub5 = xy_df_sub5.drop([ 'latitude', 'longitude', 'Start Year', 'Start Month', 'Start Day', 'End Year', 'End Month', 'End Day', 'label', 'Unnamed: 0'], axis=1)\n",
    "x = xy_df_sub5.drop(xy_df_sub5.filter(regex='target').columns, axis=1)#drop target col\n",
    "x = x.select_dtypes(['number'])#drop index col\n",
    "y = xy_df_sub5.filter(regex='target') #filter to cols containing target\n",
    "\n",
    "column_index = x.columns.get_loc('year')\n",
    "x = x.iloc[:, column_index+1:]\n",
    "x_train5, x_test5, y_train5, y_test5 = train_test_split(x, y, test_size=0.3, random_state=42)\n",
    "\n",
    "print(x_train5.shape, x_test5.shape, y_train5.shape, y_test5.shape)\n"
   ]
  },
  {
   "cell_type": "code",
   "execution_count": null,
   "metadata": {},
   "outputs": [
    {
     "name": "stdout",
     "output_type": "stream",
     "text": [
      "Dumb baseline AUC 0.5\n",
      "maximum f1 score, thres 0.49689009347093366 0.4\n",
      "auc, f1, accu, accu_bl, precision, recall=  0.5 0.49689009347093366 0.987637267767111 0.5 0.012362732232889011 0.0\n",
      "[[14300     0]\n",
      " [  179     0]]\n"
     ]
    }
   ],
   "source": [
    "results5 = {}\n",
    "baseline(y_test5, results5)"
   ]
  },
  {
   "cell_type": "code",
   "execution_count": null,
   "metadata": {},
   "outputs": [
    {
     "name": "stdout",
     "output_type": "stream",
     "text": [
      "running xgb...\n",
      "[10, 20, 65]\n",
      "Train AUC:  0.9849488580069498\n",
      "{'learning_rate': 0.1, 'max_depth': 4, 'n_estimators': 100, 'scale_pos_weight': 10}\n",
      "maximum f1 score, thres 0.6748674005110863 0.7\n",
      "auc, f1, accu, accu_bl, precision, recall=  0.9743772707739188 0.6748674005110863 0.9796256647558533 0.7248855334609525 0.14310558831587566 0.46368715083798884\n",
      "[[14101   199]\n",
      " [   96    83]]\n"
     ]
    }
   ],
   "source": [
    "stats_only(x_train5, y_train5, x_test5, y_test5, results5)\n",
    "\n"
   ]
  },
  {
   "cell_type": "code",
   "execution_count": 65,
   "metadata": {},
   "outputs": [
    {
     "name": "stdout",
     "output_type": "stream",
     "text": [
      "running xgb...\n",
      "[10, 20, 65]\n",
      "Train AUC:  0.8989277296190276\n",
      "{'learning_rate': 0.1, 'max_depth': 4, 'n_estimators': 100, 'scale_pos_weight': 10}\n",
      "maximum f1 score, thres 0.559744135036995 0.4\n",
      "auc, f1, accu, accu_bl, precision, recall=  0.7471119662460444 0.5116270255233326 0.9675391946957663 0.591883423838731 0.030760854237860832 0.20670391061452514\n",
      "[[13972   328]\n",
      " [  142    37]]\n"
     ]
    }
   ],
   "source": [
    "nlp_only(x_train5, y_train5, x_test5, y_test5, results5)"
   ]
  },
  {
   "cell_type": "code",
   "execution_count": 66,
   "metadata": {},
   "outputs": [
    {
     "name": "stdout",
     "output_type": "stream",
     "text": [
      "running xgb...\n",
      "[10, 20, 65]\n",
      "Train AUC:  0.999511544138674\n",
      "{'learning_rate': 0.1, 'max_depth': 6, 'n_estimators': 100, 'scale_pos_weight': 20}\n",
      "maximum f1 score, thres 0.5343266790851295 0.5\n",
      "auc, f1, accu, accu_bl, precision, recall=  0.6996911747470407 0.5182796030688209 0.9864631535327025 0.521472242840958 0.022644810900658997 0.0446927374301676\n",
      "[[14275    25]\n",
      " [  171     8]]\n"
     ]
    }
   ],
   "source": [
    "weather_only(x_train5, y_train5, x_test5, y_test5, results5)"
   ]
  },
  {
   "cell_type": "code",
   "execution_count": 67,
   "metadata": {},
   "outputs": [
    {
     "name": "stdout",
     "output_type": "stream",
     "text": [
      "running xgb...\n",
      "[10, 20, 65]\n",
      "Train AUC:  0.9808870702180577\n",
      "{'learning_rate': 0.1, 'max_depth': 4, 'n_estimators': 100, 'scale_pos_weight': 65}\n",
      "maximum f1 score, thres 0.5683454486568243 0.7\n",
      "auc, f1, accu, accu_bl, precision, recall=  0.722480173457827 0.5683454486568243 0.9685751778437738 0.6034412235808884 0.03576306019215456 0.22905027932960895\n",
      "[[13983   317]\n",
      " [  138    41]]\n"
     ]
    }
   ],
   "source": [
    "weather_nlp(x_train5, y_train5, x_test5, y_test5, results5)"
   ]
  },
  {
   "cell_type": "code",
   "execution_count": 68,
   "metadata": {},
   "outputs": [
    {
     "name": "stdout",
     "output_type": "stream",
     "text": [
      "running xgb...\n",
      "[10, 20, 65]\n",
      "Train AUC:  0.9930672341728458\n",
      "{'learning_rate': 0.1, 'max_depth': 4, 'n_estimators': 100, 'scale_pos_weight': 10}\n",
      "maximum f1 score, thres 0.6420605551907898 0.5\n",
      "auc, f1, accu, accu_bl, precision, recall=  0.9681359143649646 0.6369659980355152 0.9708543407693901 0.739753291401336 0.11312413038513905 0.5027932960893855\n",
      "[[13967   333]\n",
      " [   89    90]]\n"
     ]
    }
   ],
   "source": [
    "stats_nlp(x_train5, y_train5, x_test5, y_test5, results5)"
   ]
  },
  {
   "cell_type": "code",
   "execution_count": 69,
   "metadata": {},
   "outputs": [
    {
     "name": "stdout",
     "output_type": "stream",
     "text": [
      "running xgb...\n",
      "[10, 20, 65]\n",
      "Train AUC:  0.9999705727729907\n",
      "{'learning_rate': 0.1, 'max_depth': 6, 'n_estimators': 100, 'scale_pos_weight': 10}\n",
      "maximum f1 score, thres 0.6201913982089219 0.4\n",
      "auc, f1, accu, accu_bl, precision, recall=  0.9670244559909364 0.5717795619100151 0.9797637958422543 0.6311722076805876 0.07224931222563563 0.2737430167597765\n",
      "[[14137   163]\n",
      " [  130    49]]\n"
     ]
    }
   ],
   "source": [
    "stats_weather(x_train5, y_train5, x_test5, y_test5, results5)"
   ]
  },
  {
   "cell_type": "code",
   "execution_count": 70,
   "metadata": {},
   "outputs": [
    {
     "name": "stdout",
     "output_type": "stream",
     "text": [
      "running xgb...\n",
      "[10, 20, 65]\n",
      "Train AUC:  0.9999831380183886\n",
      "{'learning_rate': 0.1, 'max_depth': 6, 'n_estimators': 100, 'scale_pos_weight': 10}\n",
      "maximum f1 score, thres 0.596686619458772 0.5\n",
      "auc, f1, accu, accu_bl, precision, recall=  0.9638748681486111 0.558566881820114 0.9820429587678707 0.5881927569637067 0.051469956264290045 0.18435754189944134\n",
      "[[14186   114]\n",
      " [  146    33]]\n"
     ]
    }
   ],
   "source": [
    "all_vars(x_train5, y_train5, x_test5, y_test5, results5)"
   ]
  }
 ],
 "metadata": {
  "kernelspec": {
   "display_name": "venv_mml",
   "language": "python",
   "name": "python3"
  },
  "language_info": {
   "codemirror_mode": {
    "name": "ipython",
    "version": 3
   },
   "file_extension": ".py",
   "mimetype": "text/x-python",
   "name": "python",
   "nbconvert_exporter": "python",
   "pygments_lexer": "ipython3",
   "version": "3.9.6"
  }
 },
 "nbformat": 4,
 "nbformat_minor": 2
}
